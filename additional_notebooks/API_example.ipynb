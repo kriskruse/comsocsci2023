{
 "cells": [
  {
   "cell_type": "markdown",
   "id": "f8a88010",
   "metadata": {
    "pycharm": {
     "name": "#%% md\n"
    }
   },
   "source": [
    "## What is a third-party API?\n"
   ]
  },
  {
   "cell_type": "markdown",
   "id": "2d2798c8",
   "metadata": {
    "pycharm": {
     "name": "#%% md\n"
    }
   },
   "source": [
    "Third party APIs are provided by third parties — generally companies such as Facebook, Twitter, or Google — to allow you to access their functionality and data. "
   ]
  },
  {
   "cell_type": "markdown",
   "id": "f7344244",
   "metadata": {
    "pycharm": {
     "name": "#%% md\n"
    }
   },
   "source": [
    "## Sending an API request in Python "
   ]
  },
  {
   "attachments": {},
   "cell_type": "markdown",
   "id": "6d472447",
   "metadata": {
    "pycharm": {
     "name": "#%% md\n"
    }
   },
   "source": [
    "Let's say we wanted to find scientific papers about \"ChatGPT\" published in 2023. \n",
    "There are a few APIs out there that allow you to gather research articles and related data. \n",
    "Some examples are: \n",
    "\n",
    "- [Semantic Scholar Academic Graph API](https://api.semanticscholar.org/api-docs/graph)\n",
    "- [openalex](https://docs.openalex.org/)\n",
    "- [CrossRef API](https://www.crossref.org/documentation/retrieve-metadata/rest-api/)\n",
    "\n",
    "In this example, I am going to use the Semantic Scholar Academic Graph API. "
   ]
  },
  {
   "cell_type": "code",
   "execution_count": 99,
   "id": "c9c10592",
   "metadata": {
    "pycharm": {
     "name": "#%%\n"
    }
   },
   "outputs": [],
   "source": [
    "import requests\n"
   ]
  },
  {
   "cell_type": "code",
   "execution_count": 109,
   "id": "03de4b55",
   "metadata": {
    "pycharm": {
     "name": "#%%\n"
    }
   },
   "outputs": [],
   "source": [
    "BASE_URL = \"https://api.semanticscholar.org/graph/\"\n",
    "VERSION = \"v1/\"\n",
    "RESOURCE = \"paper/search\"\n",
    "\n",
    "\n",
    "params = {'query':\"ChatGPT\",\n",
    "          \"year\":2023,\n",
    "           \"offset\":0,\n",
    "           \"limit\":100,\n",
    "            \"fields\":\"title,year,authors\"}"
   ]
  },
  {
   "cell_type": "code",
   "execution_count": 110,
   "id": "d39686d6",
   "metadata": {
    "pycharm": {
     "name": "#%%\n"
    }
   },
   "outputs": [],
   "source": [
    "my_url = BASE_URL + VERSION + RESOURCE"
   ]
  },
  {
   "cell_type": "code",
   "execution_count": 111,
   "id": "e94675fe",
   "metadata": {
    "pycharm": {
     "name": "#%%\n"
    }
   },
   "outputs": [],
   "source": [
    "r = requests.get(my_url, params=params)"
   ]
  },
  {
   "cell_type": "code",
   "execution_count": 112,
   "id": "f79e5a99",
   "metadata": {
    "pycharm": {
     "name": "#%%\n"
    }
   },
   "outputs": [
    {
     "data": {
      "text/plain": [
       "[{'paperId': '57be0eee785bbfd669c1f51e9a3681105b7f82be',\n",
       "  'title': 'The Benefits and Challenges of ChatGPT: An Overview',\n",
       "  'year': 2023,\n",
       "  'authors': [{'authorId': '2200923644', 'name': 'Jianyang Deng'},\n",
       "   {'authorId': '2201012875', 'name': 'Yijia Lin'}]},\n",
       " {'paperId': 'dfc125ec03e84c2ae26147964fc301b1455f3181',\n",
       "  'title': 'The moral authority of ChatGPT',\n",
       "  'year': 2023,\n",
       "  'authors': [{'authorId': '104246606', 'name': 'Sebastian Krügel'},\n",
       "   {'authorId': '20658415', 'name': 'Andreas Ostermaier'},\n",
       "   {'authorId': '1696033469', 'name': 'Matthias W. Uhl'}]},\n",
       " {'paperId': '9f530ebf624bf58e91b2a1f20b0799a45ca48f9a',\n",
       "  'title': 'An Analysis of the Automatic Bug Fixing Performance of ChatGPT',\n",
       "  'year': 2023,\n",
       "  'authors': [{'authorId': None, 'name': 'Dominik Sobania'},\n",
       "   {'authorId': None, 'name': 'Martin Briesch'},\n",
       "   {'authorId': None, 'name': 'Carol Hanna'},\n",
       "   {'authorId': None, 'name': 'Justyna Petke'}]},\n",
       " {'paperId': '3c76d5b253a3f8f2bb2294e94037b6fe16bf1ab1',\n",
       "  'title': \"Are ChatGPT's knowledge and interpretation ability comparable to those of medical students in Korea for taking a parasitology examination?: a descriptive study.\",\n",
       "  'year': 2023,\n",
       "  'authors': [{'authorId': '143918822', 'name': 'Sun Huh'}]},\n",
       " {'paperId': 'b6f8cffc5da51581aec71d919d010d55e5ac068a',\n",
       "  'title': \"The political ideology of conversational AI: Converging evidence on ChatGPT's pro-environmental, left-libertarian orientation\",\n",
       "  'year': 2023,\n",
       "  'authors': [{'authorId': '39697129', 'name': 'Jochen Hartmann'},\n",
       "   {'authorId': '2004368787', 'name': 'Jasper Schwenzow'},\n",
       "   {'authorId': '94737364', 'name': 'Maximilian Witte'}]},\n",
       " {'paperId': '1f22de83d912176cb8857efa1c6d65b14d6a2f5c',\n",
       "  'title': 'ChatGPT is not all you need. A State of the Art Review of large Generative AI models',\n",
       "  'year': 2023,\n",
       "  'authors': [{'authorId': '2200162353', 'name': 'Roberto Gozalo-Brizuela'},\n",
       "   {'authorId': '1398645148', 'name': 'E.C. Garrido-Merchán'}]},\n",
       " {'paperId': 'cb0538917a1810875250672064b1d923eb37c650',\n",
       "  'title': 'AI Insights into Theoretical Physics and the Swampland Program: A Journey Through the Cosmos with ChatGPT',\n",
       "  'year': 2023,\n",
       "  'authors': [{'authorId': '2201839306', 'name': 'Kay Lehnert'}]},\n",
       " {'paperId': '9dafa6c5c609348b46734fc8997b93b3587fec6e',\n",
       "  'title': 'Collaborating With ChatGPT: Considering the Implications of Generative Artificial Intelligence for Journalism and Media Education',\n",
       "  'year': 2023,\n",
       "  'authors': [{'authorId': '1795976', 'name': 'J. Pavlik'}]},\n",
       " {'paperId': 'c7a1202726442872de207ea62c2223a392afcde2',\n",
       "  'title': 'ChatGPT : Un robot conversationnel peut-il enseigner ?',\n",
       "  'year': 2023,\n",
       "  'authors': [{'authorId': '49509218', 'name': 'B. Quinio'},\n",
       "   {'authorId': '2769534', 'name': 'Marc Bidan'}]},\n",
       " {'paperId': '283ecf85ba901865303f37a2c9f6206d266e5019',\n",
       "  'title': 'ChatGPT: evolution or revolution?',\n",
       "  'year': 2023,\n",
       "  'authors': [{'authorId': '2354377', 'name': 'B. Gordijn'},\n",
       "   {'authorId': '50377385', 'name': 'H. Have'}]},\n",
       " {'paperId': '50aea7bae4c478e850f218e58da0e24f501ab8fc',\n",
       "  'title': 'Abstracts written by ChatGPT fool scientists.',\n",
       "  'year': 2023,\n",
       "  'authors': [{'authorId': '40898374', 'name': 'Holly Else'}]},\n",
       " {'paperId': '55c75a0d583f847b3bc528d61d2da6b0aca1427f',\n",
       "  'title': 'Discursive Competence in ChatGPT, Part 1: Talking with Dragons',\n",
       "  'year': 2023,\n",
       "  'authors': [{'authorId': '3195738', 'name': 'W. Benzon'}]},\n",
       " {'paperId': 'cb29cf52f0f7d2e4324c68690a55b22890f2212d',\n",
       "  'title': 'How Close is ChatGPT to Human Experts? Comparison Corpus, Evaluation, and Detection',\n",
       "  'year': 2023,\n",
       "  'authors': [{'authorId': '2034015747', 'name': 'Biyang Guo'},\n",
       "   {'authorId': '2149173726', 'name': 'Xin Zhang'},\n",
       "   {'authorId': '2108416148', 'name': 'Ziyuan Wang'},\n",
       "   {'authorId': '2152154941', 'name': 'Minqi Jiang'},\n",
       "   {'authorId': '2147399904', 'name': 'Jinran Nie'},\n",
       "   {'authorId': '2193663564', 'name': 'Yuxuan Ding'},\n",
       "   {'authorId': '2170160137', 'name': 'Jianwei Yue'},\n",
       "   {'authorId': '2107934757', 'name': 'Yupeng Wu'}]},\n",
       " {'paperId': 'ea8c37b949545aa600d1f9410c0040098848dbca',\n",
       "  'title': 'A conversation with ChatGPT on the role of computational systems biology in stem cell research',\n",
       "  'year': 2023,\n",
       "  'authors': [{'authorId': '3284810', 'name': 'P. Cahan'},\n",
       "   {'authorId': '5746516', 'name': 'B. Treutlein'}]},\n",
       " {'paperId': '0570e8fc8b02e7eb66e798b00726fba0592ea90f',\n",
       "  'title': 'ChatGPT listed as author on research papers: many scientists disapprove.',\n",
       "  'year': 2023,\n",
       "  'authors': [{'authorId': '1413934873', 'name': 'Chris Stokel-Walker'}]},\n",
       " {'paperId': 'c0f3072aeab373fd64c98126afe1b3964ed3438d',\n",
       "  'title': 'Chatbots in a Honeypot World',\n",
       "  'year': 2023,\n",
       "  'authors': [{'authorId': '2197525782', 'name': 'Forrest McKee'},\n",
       "   {'authorId': '46787948', 'name': 'David Noever'}]},\n",
       " {'paperId': 'cc4bac2342a3189a43fc8f63820c74e9b1584828',\n",
       "  'title': 'Chatbots as Problem Solvers: Playing Twenty Questions with Role Reversals',\n",
       "  'year': 2023,\n",
       "  'authors': [{'authorId': '46787948', 'name': 'David Noever'},\n",
       "   {'authorId': '2197525782', 'name': 'Forrest McKee'}]},\n",
       " {'paperId': '288078127a3078332230442170f6745ed333c700',\n",
       "  'title': 'A Conversation on Artificial Intelligence, Chatbots, and Plagiarism in Higher Education',\n",
       "  'year': 2023,\n",
       "  'authors': [{'authorId': '152378504', 'name': 'Michael R King'},\n",
       "   {'authorId': None, 'name': 'chatGPT'}]},\n",
       " {'paperId': '2ec2c6e6f54dbe968d7344ace9b402f3867fc86b',\n",
       "  'title': 'Praxishandbuch Depression',\n",
       "  'year': 2023,\n",
       "  'authors': []},\n",
       " {'paperId': 'd8fe7d8c20d9fcb848e2c72165b1ee13de1865fe',\n",
       "  'title': 'Ouderengeneeskunde in de eerste lijn',\n",
       "  'year': 2023,\n",
       "  'authors': []},\n",
       " {'paperId': '45ddb681d4bc318693508f73957d9734c8079aa0',\n",
       "  'title': 'Diagnostic Imaging: Pädiatrische Neuroradiologie',\n",
       "  'year': 2023,\n",
       "  'authors': []},\n",
       " {'paperId': '0b05daf39a47975539b2663d3ea776a3a2bd2b0d',\n",
       "  'title': 'Cartilage - Recent Findings and Treatment [Working Title]',\n",
       "  'year': 2023,\n",
       "  'authors': []},\n",
       " {'paperId': '37208b86cbd92ca4ed7ae360596525c4d16663ba',\n",
       "  'title': 'Geothermal Energy - Impacts and Improvements [Working Title]',\n",
       "  'year': 2023,\n",
       "  'authors': []},\n",
       " {'paperId': '3883e49fc62b1f867d19f6550924126783ee2376',\n",
       "  'title': 'Modeling Label Semantics Improves Activity Recognition',\n",
       "  'year': 2023,\n",
       "  'authors': [{'authorId': '2108217022', 'name': 'Xiyuan Zhang'},\n",
       "   {'authorId': '134629191', 'name': 'Ranak Roy Chowdhury'},\n",
       "   {'authorId': '2505157', 'name': 'Dezhi Hong'},\n",
       "   {'authorId': '2110343779', 'name': 'Rajesh K. Gupta'},\n",
       "   {'authorId': '2163679367', 'name': 'Jingbo Shang'}]},\n",
       " {'paperId': '8483f44a9f5030963d94bbedbcffd025b673361a',\n",
       "  'title': 'Understanding Inherent Implication of Thermal Resistance in Double-Side Cooling Module',\n",
       "  'year': 2023,\n",
       "  'authors': [{'authorId': '3488932', 'name': 'Lubin Han'},\n",
       "   {'authorId': '1680293', 'name': 'Lin Liang'},\n",
       "   {'authorId': '2185166577', 'name': 'Ziyang Zhang'},\n",
       "   {'authorId': '2116455074', 'name': 'Yong Kang'}]},\n",
       " {'paperId': '367561c54ed5f925594ebe0022cb18f787a28c9e',\n",
       "  'title': 'Optimal pricing strategies for Airbnb when competing with incumbents on two sides',\n",
       "  'year': 2023,\n",
       "  'authors': [{'authorId': '2190774913', 'name': 'Qing Zheng'},\n",
       "   {'authorId': '9155480', 'name': 'Da Ke'},\n",
       "   {'authorId': '50079976', 'name': 'Xuan Li'}]},\n",
       " {'paperId': 'f721550e0d62dfb6e7cfccff87b8c996d78a0e3a',\n",
       "  'title': 'New Converter Solution With a Compact Modular Multilevel Structure Suitable for High-Power Medium-Voltage Wind Turbines',\n",
       "  'year': 2023,\n",
       "  'authors': [{'authorId': '145782539', 'name': 'G. Gontijo'},\n",
       "   {'authorId': '2798600', 'name': 'T. Kerekes'},\n",
       "   {'authorId': '2146719', 'name': 'D. Sera'},\n",
       "   {'authorId': '2376674', 'name': 'M. Ricco'},\n",
       "   {'authorId': '3353354', 'name': 'L. Mathe'},\n",
       "   {'authorId': '143740938', 'name': 'R. Teodorescu'}]},\n",
       " {'paperId': 'cf278d1b25162a8802516efc39c6989857482a8f',\n",
       "  'title': 'Invisible Friends',\n",
       "  'year': 2023,\n",
       "  'authors': [{'authorId': '1444688060', 'name': 'Jake M. Robinson'}]},\n",
       " {'paperId': 'fa11d6e12ce81c44dc767a50bf6325bbb5446ce7',\n",
       "  'title': 'Pädagogik und Utopie',\n",
       "  'year': 2023,\n",
       "  'authors': [{'authorId': '1396104125', 'name': 'Matthias Steffel'}]}]"
      ]
     },
     "execution_count": 112,
     "metadata": {},
     "output_type": "execute_result"
    }
   ],
   "source": [
    "r.json()[\"data\"]"
   ]
  },
  {
   "cell_type": "code",
   "execution_count": null,
   "id": "95930802",
   "metadata": {
    "pycharm": {
     "name": "#%%\n"
    }
   },
   "outputs": [],
   "source": []
  }
 ],
 "metadata": {
  "kernelspec": {
   "display_name": "Python 3 (ipykernel)",
   "language": "python",
   "name": "python3"
  },
  "language_info": {
   "codemirror_mode": {
    "name": "ipython",
    "version": 3
   },
   "file_extension": ".py",
   "mimetype": "text/x-python",
   "name": "python",
   "nbconvert_exporter": "python",
   "pygments_lexer": "ipython3",
   "version": "3.9.7"
  }
 },
 "nbformat": 4,
 "nbformat_minor": 5
}