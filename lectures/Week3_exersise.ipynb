{
 "cells": [
  {
   "cell_type": "markdown",
   "source": [
    "exercise 1: Visualization vs stats\n",
    "\n",
    "Grab the four data files data1-4.tsv.\n",
    "the files are seperated by tabs, not spaces.\n",
    "The first column is x, the second column is y.\n",
    "\n",
    "Tasks:\n",
    "Find the mean of x and y for each dataset.\n",
    "Find the variance of x and y for each dataset.\n",
    "Find the Pearson correlation between x and y for each dataset.\n",
    "Fit a straight line through each dataset and report a and b.\n",
    "visualize the four datasets using matplotlib.pyplot.\n"
   ],
   "metadata": {
    "collapsed": false
   }
  },
  {
   "cell_type": "code",
   "execution_count": 1,
   "outputs": [
    {
     "data": {
      "text/plain": "('data4.tsv', <http.client.HTTPMessage at 0x1a32765e070>)"
     },
     "execution_count": 1,
     "metadata": {},
     "output_type": "execute_result"
    }
   ],
   "source": [
    "# download data 1 - 4 from the web and save to file\n",
    "import urllib.request\n",
    "urllib.request.urlretrieve(\"https://raw.githubusercontent.com/suneman/socialdataanalysis2020/master/files/data1.tsv\", \"data1.tsv\")\n",
    "urllib.request.urlretrieve(\"https://raw.githubusercontent.com/suneman/socialdataanalysis2020/master/files/data2.tsv\", \"data2.tsv\")\n",
    "urllib.request.urlretrieve(\"https://raw.githubusercontent.com/suneman/socialdataanalysis2020/master/files/data3.tsv\", \"data3.tsv\")\n",
    "urllib.request.urlretrieve(\"https://raw.githubusercontent.com/suneman/socialdataanalysis2020/master/files/data4.tsv\", \"data4.tsv\")\n",
    "\n"
   ],
   "metadata": {
    "collapsed": false
   }
  },
  {
   "cell_type": "code",
   "execution_count": 2,
   "outputs": [],
   "source": [
    "import numpy as np\n",
    "from scipy import stats\n",
    "import matplotlib.pyplot as plt\n"
   ],
   "metadata": {
    "collapsed": false
   }
  },
  {
   "cell_type": "code",
   "execution_count": 3,
   "outputs": [
    {
     "data": {
      "text/plain": "array([[10.  ,  8.04],\n       [ 8.  ,  6.95],\n       [13.  ,  7.58],\n       [ 9.  ,  8.81],\n       [11.  ,  8.33],\n       [14.  ,  9.96],\n       [ 6.  ,  7.24],\n       [ 4.  ,  4.26],\n       [12.  , 10.84],\n       [ 7.  ,  4.82],\n       [ 5.  ,  5.68]])"
     },
     "execution_count": 3,
     "metadata": {},
     "output_type": "execute_result"
    }
   ],
   "source": [
    "# load data 1 - 4 from file\n",
    "data1 = np.loadtxt(\"data1.tsv\")\n",
    "data2 = np.loadtxt(\"data2.tsv\")\n",
    "data3 = np.loadtxt(\"data3.tsv\")\n",
    "data4 = np.loadtxt(\"data4.tsv\")\n",
    "\n",
    "data1asd"
   ],
   "metadata": {
    "collapsed": false
   }
  },
  {
   "cell_type": "code",
   "execution_count": 5,
   "outputs": [
    {
     "data": {
      "text/plain": "<Figure size 720x720 with 4 Axes>",
      "image/png": "[encoded data removed]"
     },
     "metadata": {
      "needs_background": "light"
     },
     "output_type": "display_data"
    }
   ],
   "source": [
    "# calculate mean of x and y for each dataset\n",
    "mean_x1 = np.mean(data1[:,0])\n",
    "mean_y1 = np.mean(data1[:,1])\n",
    "mean_x2 = np.mean(data2[:,0])\n",
    "mean_y2 = np.mean(data2[:,1])\n",
    "mean_x3 = np.mean(data3[:,0])\n",
    "mean_y3 = np.mean(data3[:,1])\n",
    "mean_x4 = np.mean(data4[:,0])\n",
    "mean_y4 = np.mean(data4[:,1])\n",
    "\n",
    "# calculate the variance for all of the various sets of x and y\n",
    "var_x1 = np.var(data1[:,0])\n",
    "var_y1 = np.var(data1[:,1])\n",
    "var_x2 = np.var(data2[:,0])\n",
    "var_y2 = np.var(data2[:,1])\n",
    "var_x3 = np.var(data3[:,0])\n",
    "var_y3 = np.var(data3[:,1])\n",
    "var_x4 = np.var(data4[:,0])\n",
    "var_y4 = np.var(data4[:,1])\n",
    "\n",
    "# calculate Pearson correlation between x and y for all four data sets\n",
    "pearson1 = stats.pearsonr(data1[:,0], data1[:,1])\n",
    "pearson2 = stats.pearsonr(data2[:,0], data2[:,1])\n",
    "pearson3 = stats.pearsonr(data3[:,0], data3[:,1])\n",
    "pearson4 = stats.pearsonr(data4[:,0], data4[:,1])\n",
    "\n",
    "# fit a straight line through each dataset and report a and b\n",
    "slope1, intercept1, r_value1, p_value1, std_err1 = stats.linregress(data1[:,0], data1[:,1])\n",
    "slope2, intercept2, r_value2, p_value2, std_err2 = stats.linregress(data2[:,0], data2[:,1])\n",
    "slope3, intercept3, r_value3, p_value3, std_err3 = stats.linregress(data3[:,0], data3[:,1])\n",
    "slope4, intercept4, r_value4, p_value4, std_err4 = stats.linregress(data4[:,0], data4[:,1])\n",
    "\n",
    "# plot the four datasets using matplotlib.pyplot\n",
    "fig, axs = plt.subplots(2, 2, figsize=(10,10))\n",
    "axs[0, 0].plot(data1[:,0], data1[:,1], 'o', label='data1')\n",
    "axs[0, 0].plot(data1[:,0], slope1*data1[:,0] + intercept1, 'r', label='fitted line')\n",
    "axs[0, 0].set_title('data1')\n",
    "axs[0, 0].legend()\n",
    "axs[0, 1].plot(data2[:,0], data2[:,1], 'o', label='data2')\n",
    "axs[0, 1].plot(data2[:,0], slope2*data2[:,0] + intercept2, 'r', label='fitted line')\n",
    "axs[0, 1].set_title('data2')\n",
    "axs[0, 1].legend()\n",
    "axs[1, 0].plot(data3[:,0], data3[:,1], 'o', label='data3')\n",
    "axs[1, 0].plot(data3[:,0], slope3*data3[:,0] + intercept3, 'r', label='fitted line')\n",
    "axs[1, 0].set_title('data3')\n",
    "axs[1, 0].legend()\n",
    "axs[1, 1].plot(data4[:,0], data4[:,1], 'o', label='data4')\n",
    "axs[1, 1].plot(data4[:,0], slope4*data4[:,0] + intercept4, 'r', label='fitted line')\n",
    "axs[1, 1].set_title('data4')\n",
    "axs[1, 1].legend()\n",
    "\n",
    "# Show plots from 0 to 20 on x and 2 to 14 on y\n",
    "for ax in axs.flat:\n",
    "    ax.set(xlabel='x', ylabel='y')\n",
    "    ax.set_xlim(0, 20)\n",
    "    ax.set_ylim(2, 14)\n",
    "\n",
    "# show plot\n",
    "plt.show()"
   ],
   "metadata": {
    "collapsed": false
   }
  },
  {
   "cell_type": "code",
   "execution_count": null,
   "outputs": [],
   "source": [],
   "metadata": {
    "collapsed": false
   }
  }
 ],
 "metadata": {
  "kernelspec": {
   "display_name": "Python 3",
   "language": "python",
   "name": "python3"
  },
  "language_info": {
   "codemirror_mode": {
    "name": "ipython",
    "version": 2
   },
   "file_extension": ".py",
   "mimetype": "text/x-python",
   "name": "python",
   "nbconvert_exporter": "python",
   "pygments_lexer": "ipython2",
   "version": "2.7.6"
  }
 },
 "nbformat": 4,
 "nbformat_minor": 0
}
