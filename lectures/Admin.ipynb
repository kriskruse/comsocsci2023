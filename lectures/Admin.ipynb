{
 "cells": [
  {
   "cell_type": "markdown",
   "metadata": {
    "pycharm": {
     "name": "#%% md\n"
    }
   },
   "source": [
    "# A couple of practical things\n",
    "\n",
    "## Overview\n",
    "\n",
    "In this course, we're going to use a couple of 'technologies' in order to learn the material. \n",
    "One of the reasons why I do not rely entirely on DTU Learn is because I believe it is useful for you to familiarize with technologies that you may continue to use later on in your work or research life. \n",
    "Below, you can find a couple of videos that explain how we will use these technologies. \n",
    "\n",
    "* The first tool is **Github**. You've already worked with this (in fact, you're probably looking at this notebook file on the web), but in the video below, I provide some more examples.\n",
    "\n",
    "* The second is **Slack**. Slack is a platform that is widely used for organizational and professional communication. \n",
    "\n",
    "* Next, we will use **Python** and **Jupyter Notebooks**. While you should be by now very familiar with it, please read carefully the instructions to make sure we all use the same Python version, etc...\n",
    "\n",
    "* Finally, we do use **DTU Learn** for a couple of things."
   ]
  },
  {
   "cell_type": "markdown",
   "metadata": {
    "pycharm": {
     "name": "#%% md\n"
    }
   },
   "source": [
    "## Where to access the course material\n"
   ]
  },
  {
   "cell_type": "code",
   "execution_count": null,
   "metadata": {
    "scrolled": true,
    "pycharm": {
     "name": "#%%\n"
    }
   },
   "outputs": [],
   "source": [
    "from IPython.display import YouTubeVideo\n",
    "YouTubeVideo(\"6RERvFwIat0\",width=800, height=450)"
   ]
  },
  {
   "cell_type": "markdown",
   "metadata": {
    "pycharm": {
     "name": "#%% md\n"
    }
   },
   "source": [
    "## Github for collaborative development\n",
    "\n",
    "In this course, we will use Github to develop code collaboratively. \n",
    "\n",
    "**How to use Github for developing your Project Assignment** It is required that you and your group use Github to work on your assignemnts. In all group assignments, you will be asked to submit a link to a Git repository in which the commit history of the individual members of the group can be assessed. This is for me to check how the group has collaboratively developed code for the assignment (see more in [the course Wiki](https://github.com/lalessan/comsocsci2022/wiki/Assignments)).\n",
    "\n",
    "If you are not familiar with Git/Github, I suggest going through these two tutorials: \n",
    "* [Intro Git Tutorial](http://jmausolf.github.io/code/intro_git/)\n",
    "* [Intermediate Git Tutorial](http://jmausolf.github.io/code/intermediate_git/)"
   ]
  },
  {
   "cell_type": "markdown",
   "metadata": {
    "pycharm": {
     "name": "#%% md\n"
    }
   },
   "source": [
    "## Slack to communicate with me and your TA\n",
    "\n",
    "In this course, we will use Slack to communicate. Here are some info on how to use the Slack channel. \n",
    "\n",
    "**How to join the Slack channel:** [simply click on this invite](https://join.slack.com/t/dtu-bsq3548/shared_invite/zt-1mcwaquh1-x~SJ8GROoTd1kilHUlw0kg)      \n",
    "**How to access the Slack channel:** go to the webpage [https://comsocsci2023.slack.com/](https://comsocsci2023.slack.com/)    \n",
    "\n",
    "**How to use Slack:** \n",
    "\n",
    "- *Asking questions publicly:* If you have a question that may be useful to others, please post it on a public channel, so that everyone can see the reply. We have created dedicated channels for each class (Week1, Week2, Week3) and for the assignments. \n",
    "- *Asking questions privately:* If you have a question that is irrelevant to others, you can send a private message to your TA or me. \n",
    "- *Discuss among you:* Feel free of course use Slack to discuss with your team members, or the rest of the class. \n",
    "\n",
    "**IMPORTANT:** You can expect to receive an answer from me or the TA within a few days. But please be patient :)"
   ]
  },
  {
   "cell_type": "markdown",
   "metadata": {
    "pycharm": {
     "name": "#%% md\n"
    }
   },
   "source": [
    "## Python\n",
    "\n",
    "The exercise you will solve during the class require using Python and Jupyter Notebooks. \n",
    "I suggest to use the Anaconda distribution for Python 3.9. Note that if you want to use another setup, that's fine, but I cannot promise to help you with anything other than Anaconda. \n",
    "\n",
    "I suggest to follow these instructions for set up: \n",
    "\n",
    "* Download the _Anaconda distribution_ of Python [**here**](https://www.anaconda.com/download/). \n",
    "* Create an Anaconda [environment](https://docs.conda.io/projects/conda/en/latest/user-guide/tasks/manage-environments.html) for this class: `conda create -n comsocsci2023 python=3.9`\n",
    "* Activate the environment \"`conda activate comsocsci2023`\", start up the notebook by typing \"`jupyter notebook`\" and your terminal, and everything should be ready to use in your favorite browser. \n",
    "* Be sure to check the keyboards shortcuts under the heading of \"Help\" where you will find for instance shortcut to code-completion (Tab) and tooltip with documentation (Shift-Tab) which will save you a ton of time.  \n",
    "\n",
    "**Super important** Everything we do going forward in this class will depend on you being comfortable with Python. There is simply **no way** that you will be able to do well, if you're also struggling with Python on top of everything else you'll be learning.\n",
    "\n",
    "**So if you're not 100% comfortable with Python, I recommend you follow a tutorial to teach you Python, for example [this one](https://www.learnpython.org), before proceeding**. "
   ]
  },
  {
   "cell_type": "markdown",
   "metadata": {
    "pycharm": {
     "name": "#%% md\n"
    }
   },
   "source": [
    "## DTU Learn to form groups and submit exercises \n",
    "\n",
    "I use DTU Learn for a couple of things, mostly for you to hand in materials (e.g. surveys, assignments, etc)\n",
    "\n",
    "You can find the page for our course here  \n",
    "\n",
    "[DTU Learn](https://learn.inside.dtu.dk/d2l/home/145262)    "
   ]
  }
 ],
 "metadata": {
  "kernelspec": {
   "display_name": "Python 3 (ipykernel)",
   "language": "python",
   "name": "python3"
  },
  "language_info": {
   "codemirror_mode": {
    "name": "ipython",
    "version": 3
   },
   "file_extension": ".py",
   "mimetype": "text/x-python",
   "name": "python",
   "nbconvert_exporter": "python",
   "pygments_lexer": "ipython3",
   "version": "3.9.7"
  }
 },
 "nbformat": 4,
 "nbformat_minor": 1
}