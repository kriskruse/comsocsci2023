{
 "cells": [
  {
   "cell_type": "markdown",
   "source": [
    "Do some web scraping\n",
    "You can find the programmes of the 2019, 2020 and 2021 editions of the conference at the links below.\n",
    "\n",
    "    Inspect the HTML of the pages above and use web-scraping to get the set of participants in 2019, 2020, and 2021.\n",
    "    How many unique researchers you get in 2019? and in 2020? and in 2021? How many unique researchers in total?\n",
    "    Create the set of unique researchers that joined at least one of these three conferences and store it into a file.\n",
    "    Go to DTU Learn and fill the Survey \"Web Scraping\"\n",
    "    Optional: Add also authors from the 2022 edition (link below).\n",
    "\n",
    "        2019 edition\n",
    "        Oral presentations: https://2019.ic2s2.org/oral-presentations/\n",
    "        Poster presentations: https://2019.ic2s2.org/posters/\n",
    "        Hint: elements that represent items in lists are defined by the <li> tag\n",
    "        2020 edition\n",
    "        Oral and Poster presentations: https://ic2s2.mit.edu/program\n",
    "        Hint: Here you should find an easy way to get the data by inspecting the page (right click on the table and click Inspect)\n",
    "        2021 edition\n",
    "        All presentations: https://easychair.org/smart-program/IC2S2-2021/talk_author_index.html\n",
    "        2022 edition\n",
    "        All presentations: https://boothuchicagocaai.wixsite.com/website-2/program\n",
    "        Here the data is in a PDF.\n",
    "        Hint: There are Python packages to read data from PDFs.\n",
    "\n"
   ],
   "metadata": {
    "collapsed": false
   }
  },
  {
   "cell_type": "code",
   "execution_count": 1,
   "outputs": [],
   "source": [
    "from bs4 import BeautifulSoup as bs\n",
    "import requests"
   ],
   "metadata": {
    "collapsed": false
   }
  },
  {
   "cell_type": "code",
   "execution_count": 2,
   "outputs": [
    {
     "data": {
      "text/plain": "['Ziv Epstein',\n 'Milan Janosov',\n 'Pietro Panzarasa',\n 'Milena Tsvetkova',\n 'Joris Broere',\n 'Robert West',\n 'Rense Corten',\n 'Chao Min',\n 'Kayla de la Haye',\n 'Maria Bolsinova',\n 'Johannes Wachs',\n 'David Schoch',\n 'Sandra Gonzalez-Bailon',\n 'Duncan Watts',\n 'Rense Corten',\n 'David Rozado',\n 'Morgan Frank',\n 'Milena Tsvetkova',\n 'Rebekah Tromble',\n 'Ridhi Kashyap',\n 'Kirk Bansak',\n 'Henry Smart III',\n 'Johan Koskinen',\n 'Rense Corten',\n 'David Schoch',\n 'Bedoor AlShebli',\n 'Aniko Hannak',\n 'Milena Tsvetkova',\n 'Rense Corten',\n 'Kayla de la Haye',\n 'David Garcia',\n 'Dashun Wang',\n 'Scott Hale',\n 'Rense Corten',\n 'Ashton Anderson',\n 'Eelke Heemskerk']"
     },
     "execution_count": 2,
     "metadata": {},
     "output_type": "execute_result"
    }
   ],
   "source": [
    "# 2019\n",
    "link2019 = \"https://2019.ic2s2.org/oral-presentations/\"\n",
    "r2019 = requests.get(link2019)\n",
    "s2019 = bs(r2019.content)\n",
    "# find paragraf\n",
    "p2019 = s2019.find_all(\"em\")\n",
    "#get names\n",
    "names2019 = []\n",
    "for i in p2019:\n",
    "    names2019.append(i.text[7:])\n",
    "\n",
    "# for all names in the list clean the string\n",
    "names2019c = []\n",
    "for i in names2019:\n",
    "    names2019c.append(i.strip())\n",
    "names2019c"
   ],
   "metadata": {
    "collapsed": false
   }
  },
  {
   "cell_type": "code",
   "execution_count": 3,
   "outputs": [],
   "source": [
    "#2019 posters\n",
    "link2019posters = \"https://2019.ic2s2.org/posters/\"\n",
    "r2019posters = requests.get(link2019posters)\n",
    "s2019posters = bs(r2019posters.content)\n",
    "# find li in ul\n",
    "p2019posters = s2019posters.find_all(\"li\")\n",
    "# find text between <li> and <span>\n",
    "names2019posters = []\n",
    "for i in p2019posters:\n",
    "    names2019posters.append(i.text.split(\"<span\")[0])\n",
    "\n",
    "#if there is a \\xa0 in the row add the text before it to the new variable\n",
    "names2019posters2 = []\n",
    "for i in names2019posters:\n",
    "    if \"\\xa0\" in i:\n",
    "        names2019posters2.append(i.split(\"\\xa0\")[0])\n",
    "\n",
    "t = []\n",
    "# split both for comman and \"and\" and add to new variable\n",
    "for i in names2019posters2:\n",
    "    k = i.split(\",\")\n",
    "    for j in k:\n",
    "        t.append(j)\n",
    "names2019p = []\n",
    "for i in t:\n",
    "    if \" and \" in i:\n",
    "        names2019p.append(i.split(\" and \")[0])\n",
    "        names2019p.append(i.split(\" and \")[1])\n",
    "    else: names2019p.append(i)\n",
    "\n",
    "# for all names in the list clean the string\n",
    "names2019p2 = []\n",
    "for i in names2019p:\n",
    "    names2019p2.append(i.strip())\n",
    "\n",
    "#display the list\n",
    "names2019posters = names2019p2\n"
   ],
   "metadata": {
    "collapsed": false
   }
  },
  {
   "cell_type": "code",
   "execution_count": 28,
   "outputs": [
    {
     "name": "stdout",
     "output_type": "stream",
     "text": [
      "2019 unique researchers oral and posters:  453\n",
      "{'Evgenia Dolgova', 'Yoshihiko Suhara', 'Simon Schweighofer', 'Krishna Gummadi', 'Rense Corten', 'Eric Plutzer', 'András Vörös', 'Jaron Harambam', 'Suzan Verberne', 'Markus Meierer', 'Bedoor AlShebli', 'Masanori Takano', 'Matteo Gagliolo', 'Lise Getoor', 'Kieran Mepham', 'Ciro Cattuto', 'Aleksandra Aloric', 'Fragkiskos Malliaros', 'Yelena Mejova', 'Kristina Lerman', 'Parizad Bahardoost', 'Bart Baesens', 'Zhongkai Sun', 'Daniel Straulino', 'David Garcia', 'Julian Kohne', 'Eun Lee', 'Alexandre P Francisco', 'Xin Sui', 'Carly Knight', 'Joshua Blumenstock', 'Motahhare Eslami', 'Muhammad Bilal Zafar', 'Arseny Rasov', 'George G. Vega Yon', 'Jungseock Joo', 'Gabor Vattay', 'Deok-Sun Lee', 'Yuval Benjamini', 'Masashi Miura', 'Milena Tsvetkova', 'Ridhi Kashyap', 'Benjamin Meindl', 'Francisco C. Santos', 'Martin Lukac', 'Milan Janosov', 'Pablo Lozano', 'Kostas Stathoulopoulos', 'Manal Saadi', 'Sergey Gavrilets', 'Rebekah Tromble', 'Guangqing Chi', 'Gergő Tóth', 'Scott Hale', 'Chathika Gunaratne', 'William Sethares', 'Eszter Bokanyi', 'Vadim Voskresenskii', 'Milan van den Heuvel', 'Daniel Ruiz', 'Demetris Avraam', 'Chengcheng Li', 'Anne Cornelia Kroon', 'Nan Zhang', 'Franziska Pradel', 'Edwin de Jonge', 'Ali Aghelmaleki', 'Shaojing Sun', 'Damian Trilling', 'Fabricio Benevenuto', 'Andrew Li', 'Gijs Schumacher', 'Jaap van Den Herik', 'Radim Hladik', 'Sang Hoon Lee', 'Aristides Gionis', 'Bruno Toshio Sugano', 'Katherine Engelke', 'Elisa Oertel', 'Xiangfei Yuan', 'Dimitrios Bountouridis', 'Ayjeren Rozyjumayeva', 'Fabian Flöck', 'Clara Christner', 'Kayla de la Haye', 'Fariba Karimi', 'Xinyi Wang', 'Qiankun Zhong', 'Rishabh Kaushal', 'Mauricio Barahona', 'Mikhail Sokolov', 'Lilia Perfeito', 'Aleksei Rotmistrov', 'Aniko Hannak', 'Zachary Steinert-Threlkeld', 'Caspar Chorus', 'Benjamin Vandermarliere', 'Yasuhiro Kitakami', 'Valerie Hase', 'Martijn Schoonvelde', 'Seth Frey', 'Viacheslav A. Shibaev', 'Andrew Rosenberg', 'Zuzana Sasovova', 'Curtis Atkisson', 'Mark Levene', 'Alessandro Cossard', 'Roel Faber', 'Anton Boichenko', 'Sandrine Mouysset', 'Anxo Sanchez', 'Mariken A.C.G. van der Velden', 'Lin Wang', 'Jan Van Bavel', 'Reham Al Tamime', 'Alexander Sachs', 'Tomosato Nishi', 'Marta Rivera-Alba', 'Tobias Buchmann', 'Hiroyasu Matsushima', 'John Lach', 'Johan Koskinen', 'Itto Kornecki', 'Yuki Ogawa', 'Amir Ebrahimi Fard', 'Nora Ammann', 'Duncan Watts', 'Scott Althaus', 'Kokil Jaidka', 'Bruno Lepri', 'Henry Smart III', 'Yifan Qian', 'Satyam Mukherjee', 'Zohar Neu', 'Gert Buiten', 'Jennifer Allen', 'Ifat Emi', 'Scott Cunningham', 'Wim Bernasco', 'Morgan Frank', 'Jennifer Gewinner', 'Ivan Garibay', 'Maria Bolsinova', 'Joshua Becker', 'Ellie Yang', 'Chathurani Senevirathna', 'Moritz Müller', 'Johnnatan Messias', 'Diliara Valeeva', 'Marco Tomassini', 'Peter Krafft', 'Luis Cueto-Felgueroso', 'Hiroki Sakaji', 'Neda Paryab', 'Huimin Xu', 'Abeer Aldayel', 'Adrian Weller', 'Maksim Tsvetovat', 'Kiran Garimella', 'Graham McNeill', 'Frank Takes', 'Tomo Ogawa', 'Chiara Allegri', 'Pietro Panzarasa', 'Roy Lay-Yee', 'Alex Pentland', 'David Rothschild', 'Javier Garcia-Bernardo', 'Dhruv Sapra', 'Koen Schoors', 'Shen Yan', 'Armin Mertens', 'Vedran Sekara', 'Kleber A. Oliveira', 'Guanghua Chi', 'Dean Eckles', 'Douglas Mcleod', 'Alex Furman', 'Katherine A. Cronin', 'David Schoch', 'Marie Lindegaard', 'Felicia Loecherbach', 'Jing Zeng', 'Toshiya Saito', 'Guy Laban', 'Till Hoffmann', 'Samuel Woolley', 'Wenjun Liao', 'Diego Fregolente Mendes de Oliveira', 'Lada Adamic', 'Cor Veenman', 'Heng Xu', 'Priyam Bansal', 'Saptarshi Ghosh', 'Kate Furman', 'Joris Broere', 'Kirk Bansak', 'Silke Adam', 'Marta C. Gonzalez', 'Mariano Gastón Beiró', 'Jeff Lockhart', 'Joana Mendonça', 'Martyn Harris', 'Marco Brambilla', 'Hartmut Wessler', 'Peter Ejbye-Ernst', 'Wojtek Przepiorka', 'Igor Krawczuk', 'Joana Gonçalves-Sá', 'Chenghua Lin', 'Andreia Sofia Teixeira', 'Balazs Lengyel', 'Luca Verginer', 'Gesa Biermann', 'Ulf Liebe', 'Esteban Moro', 'Giorgia Ramponi', 'Patrick Wolf', 'Johan Ugander', 'Sofia Dokuka', 'Kasper Welbers', 'Iraklis Moutidis', 'Fosca Gianotti', 'Christoph Stadtfeld', 'Lingqing Jiang', 'Fumiaki Taka', 'Donna Spruijt-Metz', 'Jeroen van den Hoven', 'Zahra Sheikhbahaee', 'María Pereda', 'Judith Moeller', 'Alberto Sánchez-Carralero', 'Chung-Hong Chan', 'Brooke M. Bell', 'Yoshiki Ishikawa', 'Ana Alonso-Curbelo', 'Yimeng Yang', 'Kevin S. Chan', 'Hsien-Te Kao', 'Viktor Aigenseer', 'Alessandra Urbinati', 'Maxime Stauffer', 'Ivan Smirnov', 'Dashun Wang', 'Takanori Nishida', 'Jan van der Laan', 'Ali Faqeeh', 'Luce le Gorrec', 'Stefano Balietti', 'Trivik Verma', 'Michaela Maier', 'Steve Guo', 'Bryan Bruns', 'Christian Pipal', 'Frederico Francisco', 'Jesse Hoey', 'Kimon Kieslich', 'Riccardo Di Clemente', 'Adrien Benamira', 'Massimo Riccaboni', 'Victor Suarez-Lledo', 'Manuel Garcia-Herranz', 'Rudy Arthur', 'Hannes Rosenbusch', 'Yoosoon An', 'Aniket Alam', 'Bernard Steunenberg', 'Wouter van Atteveldt', 'Daniele Rama', 'Marcel Wittich', 'János Kertész', 'Jens Wäckerle', 'Lorena Cano-Orón', 'Tyler Amos', 'Cheng-Jun Wang', 'Alina Sirbu', 'Alexandre Leroux', 'Jennifer Van Hook', 'Etienne Lesot', 'Isabella Loaiza', 'Ridwan Alam', 'Daniel J. Flynn', 'Juhi Kulshrestha', 'Florian Wanders', 'Lorenzo Lucchini', 'Ingmar Weber', 'Zhifan Luo', 'Dániel Kondor', 'Sandra Wankmüller', 'Yibei Chen', 'Iacopo Pozzana', 'Philipp Kling', 'Douglas Guilbeault', 'René Algesheimer', 'Carsten Schwemmer', 'Stephane Verguet', 'John Stankovic', 'George Walkden', 'Nick Jones', 'Bence Ságvári', 'Ashton Anderson', 'Xu Wang', 'Abu Sayeed Mondol', 'Zhen Zhu', 'Neave O’Clery', 'Yuki M. Asano', 'Emily Bello-Pardo', 'Jianliang Yang', 'Mattia Gasparini', 'Junichi Ozaki', 'Zoya Khan', 'Johannes Wachs', 'Meiyi Ma', 'Liat Ayalon', 'Ryo Hamawaki', 'Masoomali Fatehkia', 'Homa Hosseinmardi', 'Felipe M. Cardoso', 'Kiyoshi Izumi', 'Haye Hazenberg', 'Raluca Gui', 'Sjoerd Hooijmaaijers', 'Kyriaki Kalimeri', 'Selin Köksal', 'Charles Howland', 'Mark Alfano', 'Javier Alvarez-Galvez', 'Emilio Ferrara', 'Lingfei Wu', 'Bogdan State', 'Walid Magdy', 'Meiyappan Nagappan', 'Daniel Alexandrov', 'Andrea Bonanomi', 'Chenghua Guan', 'Je Hoon Chae', 'Michaela Schippers', 'Paul Expert', 'Aleksandra Urman', 'Mansi Sharma', 'Sara Tonelli', 'Xiancheng Li', 'Frank Peter Pijpers', 'Annie Haakenstad', 'Marius Sältzer', 'Sandra Gonzalez-Bailon', 'Alex ‘Sandy’ Pentland', 'Cláudio Vieira', 'Dell Zhang', 'Austin Benson', 'Junjun Yin', 'Benjamin Devillers', 'Maayan Levinson', 'Alla Loseva', 'Kazutoshi Sasahara', 'Lisette Espín-Noboa', 'Paulo Almeida', 'Margaret McConnell', 'Ilya Musabirov', 'Daniela Paolotti', 'Markus Mobius', 'Eaman Jahani', 'Sébastien Lerique', 'Andrea Santoro', 'Hugo de Vos', 'Andreas Diekmann', 'Isabel Valera', 'Gabriel Murray', 'Takayuki Mizuno', 'Michele Tizzoni', 'Ilse Pit', 'Nicolas Cointe', 'Ringo Ho', 'Sahil Loomba', 'Haruhiko Maenami', 'Eelke Heemskerk', 'Camille Roth', 'Anupama Aggarwal', 'Denis Bulygin', 'Khyati Mahajan', 'Allison Morgan', 'Shingo Takahashi', 'Zeph M. C. van Berlo', 'Tarun Jain', 'Emily Sullivan', 'Xiaoyu Zhang', 'Peter Davis', 'Shrikanth Narayanan', 'Jaime Oliver', 'Amineh Ghorbani', 'Ming Xiao', 'Karrie Karahalios', 'Hywel Williams', 'Soichiro Morishita', 'Robert West', 'Ivan Yamshchikov', 'Samuel Mueller', 'Wouter Van Atteveldt', 'Nadezhda Sokolova', 'Svetlana Zhuchkova', 'Gianmarco De Francisci Morales', 'Bianca Kang', 'Chunying Wen', 'Stan Oklobdzija', 'Dimitra Liotsiou', 'Chathura Jayalath', 'Clemens Harten', 'Takashi Shimada', 'Ruben Juanes', 'Gerrit Jan de Bruin', 'Jeroen Bruggeman', 'Claudia Wagner', 'Dan Levene', 'Dino Pedreschi', 'Alberto Antonioni', 'Max Pellert', 'Matthijs van Leeuwen', 'Luis C. Reyes', 'Chao Min', 'Guida Veiga', 'David Rozado', 'Christos Nicolaides', 'Abhijnan Chakraborty', 'Daniela Gawehns', 'Jan Overgoor', 'Angel Sanchez', 'Melissa Ellamil', 'Alessandro Rosina', 'Samira Shaikh', 'Ayush K. Rai', 'Philip Howard', 'Ekaterina Marchenko', 'Jeroen van Den Ochtend', 'Antske Fokkens', 'Ákos Jakobi', 'Mi Jin Lee', 'Mahmoudreza Babaei', 'Ziv Epstein', 'Vsevolod Suschevskiy', 'Nuno Araujo', 'Michael Mathioudakis', 'Sang Yup Lee', 'Dhavan Shah', 'Sid Ravinutala', 'Andre Santanche', 'James P. Gleeson', 'André Grow', 'Janos Kertesz', 'Francesco Granella', 'Stephanie Sy', 'Henri Kauhanen', 'Isabelle Tingzon', 'Mykola Makhortykh'}\n"
     ]
    }
   ],
   "source": [
    "#2019 analysis\n",
    "# how many unique researchers in 2019 both oral and posters\n",
    "print(\"2019 unique researchers oral and posters: \", len(set(names2019c + names2019posters)))\n",
    "unique_2019 = set(names2019c + names2019posters)\n",
    "print(unique_2019)"
   ],
   "metadata": {
    "collapsed": false
   }
  },
  {
   "cell_type": "code",
   "execution_count": 27,
   "outputs": [
    {
     "name": "stdout",
     "output_type": "stream",
     "text": [
      ", Not on site\n",
      ", Not on site\n",
      ", Not on site\n",
      ", Not on site\n",
      ", Not on site\n",
      ", Not on site\n",
      ", Not on site\n",
      "  Not on site\n",
      ", Not on site\n",
      ", Not on site\n",
      ", Not on site\n",
      ", Not on site\n",
      ", Not on site\n",
      ", Not on site\n",
      ", Not on site\n",
      ", Not on site\n",
      ", Not on site\n",
      ", Not on site\n",
      ", Not on site\n",
      ", Not on site\n",
      ", Not on site\n",
      ", Not on site\n",
      ", Not on site\n",
      ", Not on site\n",
      ", Not on site\n",
      ", Not on site\n",
      ", Not on site\n",
      "  Not on site\n",
      ", Not on site\n",
      ", Not on site\n",
      ", Not on site\n",
      ", Not on site\n",
      ", Not on site\n",
      ", Not on site\n",
      ", Not on site\n",
      ", Not on site\n",
      ", Not on site\n",
      ", Not on site\n",
      ", Not on site\n",
      ", Not on site\n",
      ", Not on site\n",
      ", Not on site\n",
      "  Not on site\n",
      ", Not on site\n",
      ", Not on site\n",
      ", Not on site\n",
      ", Not on site\n",
      ", Not on site\n",
      ", Not on site\n",
      ", Not on site\n",
      ", Not on site\n",
      ", Not on site\n",
      "o Not on site\n",
      ", Not on site\n",
      "f Not on site\n",
      ", Not on site\n",
      "e Not on site\n",
      ", Not on site\n",
      "r Not on site\n",
      ", Not on site\n",
      ", Not on site\n",
      ", Not on site\n",
      "K Not on site\n",
      ", Not on site\n",
      "r Not on site\n",
      ", Not on site\n",
      "i Not on site\n",
      ", Not on site\n",
      "s Not on site\n",
      ", Not on site\n",
      "h Not on site\n",
      ", Not on site\n",
      "n Not on site\n",
      ", Not on site\n",
      "a Not on site\n",
      ", Not on site\n",
      "  Not on site\n",
      ", Not on site\n",
      "G Not on site\n",
      ", Not on site\n",
      "u Not on site\n",
      ", Not on site\n",
      "m Not on site\n",
      ", Not on site\n",
      "m Not on site\n",
      ", Not on site\n",
      "a Not on site\n",
      ", Not on site\n",
      "d Not on site\n",
      ", Not on site\n",
      "i Not on site\n",
      ", Not on site\n",
      ", Not on site\n",
      ", Not on site\n",
      "R Not on site\n",
      ", Not on site\n",
      "e Not on site\n",
      ", Not on site\n",
      "n Not on site\n",
      ", Not on site\n",
      "s Not on site\n",
      ", Not on site\n",
      "e Not on site\n",
      ", Not on site\n",
      "  Not on site\n",
      ", Not on site\n",
      "C Not on site\n",
      ", Not on site\n",
      "o Not on site\n",
      ", Not on site\n",
      "r Not on site\n",
      ", Not on site\n",
      "t Not on site\n",
      ", Not on site\n",
      "e Not on site\n",
      ", Not on site\n",
      "n Not on site\n",
      ", Not on site\n",
      ", Not on site\n",
      ", Not on site\n",
      "E Not on site\n",
      ", Not on site\n",
      "r Not on site\n",
      ", Not on site\n",
      "i Not on site\n",
      ", Not on site\n",
      "c Not on site\n",
      ", Not on site\n",
      "  Not on site\n",
      ", Not on site\n",
      "P Not on site\n",
      ", Not on site\n",
      ", Not on site\n",
      ", Not on site\n",
      ", Not on site\n",
      ", Not on site\n",
      ", Not on site\n",
      ", Not on site\n",
      ", Not on site\n",
      ", Not on site\n",
      ", Not on site\n",
      ", Not on site\n",
      ", Not on site\n",
      ", Not on site\n",
      ", Not on site\n"
     ]
    },
    {
     "data": {
      "text/plain": "['2111317612',\n '2125621905',\n '3707059',\n '1410590512',\n '52190157',\n '2085711383',\n '2153146983',\n '2128637650',\n '2098691617',\n '2122544055',\n '3707059',\n '2098691617',\n '2125621905',\n '2153146983',\n '2102838606',\n '2130641593',\n '2102032586',\n '2084231279',\n '2085711383',\n '2084231279',\n '2085711383',\n '2105435885',\n '2098691617',\n '2102032586',\n '2127036699',\n '2084231279',\n '2153146983',\n '1403331060',\n '2153146983',\n '2102032586',\n '2085711383',\n '101380902',\n '2098691617',\n '52190157',\n '2102032586',\n '2176024241',\n '2084231279',\n '1599856752',\n '1410590512',\n '2085711383',\n '3707059',\n '2084231279',\n '2122544055',\n '2127036699',\n '2097808347',\n '2140699575',\n '2111317612',\n '1403331060',\n '2153146983',\n '52190157',\n '2128637650',\n '1403331060',\n '94000763',\n '2102032586']"
     },
     "execution_count": 27,
     "metadata": {},
     "output_type": "execute_result"
    }
   ],
   "source": [
    "# this is then looking the authors from 2019 up on Semantic Scholar using their API\n",
    "baseUrl  = \"https://api.semanticscholar.org/graph/v1/author/search\"\n",
    "import time\n",
    "#list to comma separated string\n",
    "hugeListOfAuthorIds = []\n",
    "\n",
    "for i in unique_2019:\n",
    "    tags = {\"query\": i,\n",
    "            \"limit\": 1000,\n",
    "            \"offset\": 0,\n",
    "            \"fields\": \"authorId\"}\n",
    "    try:\n",
    "        hugeListOfAuthorIds.append(requests.get(baseUrl, params=tags).json()[\"data\"][0][\"authorId\"])\n",
    "    except:\n",
    "        print(i + \" Not on site\")\n",
    "    time.sleep(3)\n",
    "#\n",
    "hugeListOfAuthorIds\n"
   ],
   "metadata": {
    "collapsed": false
   }
  },
  {
   "cell_type": "code",
   "execution_count": 25,
   "outputs": [
    {
     "data": {
      "text/plain": "'51301358'"
     },
     "execution_count": 25,
     "metadata": {},
     "output_type": "execute_result"
    }
   ],
   "source": [
    "# this is then looking the authors from 2019 up on Semantic Scholar using their API\n",
    "baseUrl  = \"https://api.semanticscholar.org/graph/v1/author/search\"\n",
    "import time\n",
    "#list to comma separated string\n",
    "\n",
    "tags = {\"query\": \"Milan Janosov\",\n",
    "        \"limit\": 1000,\n",
    "        \"offset\": 0,\n",
    "        \"fields\": \"authorId\"}\n",
    "requests.get(baseUrl, params=tags).json()[\"data\"][0][\"authorId\"]\n"
   ],
   "metadata": {
    "collapsed": false
   }
  },
  {
   "cell_type": "code",
   "execution_count": null,
   "outputs": [],
   "source": [],
   "metadata": {
    "collapsed": false
   }
  }
 ],
 "metadata": {
  "kernelspec": {
   "display_name": "Python 3",
   "language": "python",
   "name": "python3"
  },
  "language_info": {
   "codemirror_mode": {
    "name": "ipython",
    "version": 2
   },
   "file_extension": ".py",
   "mimetype": "text/x-python",
   "name": "python",
   "nbconvert_exporter": "python",
   "pygments_lexer": "ipython2",
   "version": "2.7.6"
  }
 },
 "nbformat": 4,
 "nbformat_minor": 0
}
