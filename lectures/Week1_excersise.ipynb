{
 "cells": [
  {
   "cell_type": "markdown",
   "source": [
    "Do some web scraping\n",
    "You can find the programmes of the 2019, 2020 and 2021 editions of the conference at the links below.\n",
    "\n",
    "    Inspect the HTML of the pages above and use web-scraping to get the set of participants in 2019, 2020, and 2021.\n",
    "    How many unique researchers you get in 2019? and in 2020? and in 2021? How many unique researchers in total?\n",
    "    Create the set of unique researchers that joined at least one of these three conferences and store it into a file.\n",
    "    Go to DTU Learn and fill the Survey \"Web Scraping\"\n",
    "    Optional: Add also authors from the 2022 edition (link below).\n",
    "\n",
    "        2019 edition\n",
    "        Oral presentations: https://2019.ic2s2.org/oral-presentations/\n",
    "        Poster presentations: https://2019.ic2s2.org/posters/\n",
    "        Hint: elements that represent items in lists are defined by the <li> tag\n",
    "        2020 edition\n",
    "        Oral and Poster presentations: https://ic2s2.mit.edu/program\n",
    "        Hint: Here you should find an easy way to get the data by inspecting the page (right click on the table and click Inspect)\n",
    "        2021 edition\n",
    "        All presentations: https://easychair.org/smart-program/IC2S2-2021/talk_author_index.html\n",
    "        2022 edition\n",
    "        All presentations: https://boothuchicagocaai.wixsite.com/website-2/program\n",
    "        Here the data is in a PDF.\n",
    "        Hint: There are Python packages to read data from PDFs.\n",
    "\n"
   ],
   "metadata": {
    "collapsed": false
   }
  },
  {
   "cell_type": "code",
   "execution_count": 2,
   "outputs": [],
   "source": [
    "from bs4 import BeautifulSoup as bs\n",
    "import requests"
   ],
   "metadata": {
    "collapsed": false
   }
  },
  {
   "cell_type": "code",
   "execution_count": 3,
   "outputs": [
    {
     "data": {
      "text/plain": "['Ziv Epstein',\n 'Milan Janosov',\n 'Pietro Panzarasa',\n 'Milena Tsvetkova',\n 'Joris Broere',\n 'Robert West',\n 'Rense Corten',\n 'Chao Min',\n 'Kayla de la Haye',\n 'Maria Bolsinova',\n 'Johannes Wachs',\n 'David Schoch',\n 'Sandra Gonzalez-Bailon',\n 'Duncan Watts',\n 'Rense Corten',\n 'David Rozado',\n 'Morgan Frank',\n 'Milena Tsvetkova',\n 'Rebekah Tromble',\n 'Ridhi Kashyap',\n 'Kirk Bansak',\n 'Henry Smart III',\n 'Johan Koskinen',\n 'Rense Corten',\n 'David Schoch',\n 'Bedoor AlShebli',\n 'Aniko Hannak',\n 'Milena Tsvetkova',\n 'Rense Corten',\n 'Kayla de la Haye',\n 'David Garcia',\n 'Dashun Wang',\n 'Scott Hale',\n 'Rense Corten',\n 'Ashton Anderson',\n 'Eelke Heemskerk']"
     },
     "execution_count": 3,
     "metadata": {},
     "output_type": "execute_result"
    }
   ],
   "source": [
    "# 2019\n",
    "link2019 = \"https://2019.ic2s2.org/oral-presentations/\"\n",
    "r2019 = requests.get(link2019)\n",
    "s2019 = bs(r2019.content)\n",
    "# find paragraf\n",
    "p2019 = s2019.find_all(\"em\")\n",
    "#get names\n",
    "names2019 = []\n",
    "for i in p2019:\n",
    "    names2019.append(i.text[7:])\n",
    "\n",
    "# for all names in the list clean the string\n",
    "names2019c = []\n",
    "for i in names2019:\n",
    "    names2019c.append(i.strip())\n",
    "names2019c"
   ],
   "metadata": {
    "collapsed": false
   }
  },
  {
   "cell_type": "code",
   "execution_count": 4,
   "outputs": [],
   "source": [
    "#2019 posters\n",
    "link2019posters = \"https://2019.ic2s2.org/posters/\"\n",
    "r2019posters = requests.get(link2019posters)\n",
    "s2019posters = bs(r2019posters.content)\n",
    "# find li in ul\n",
    "p2019posters = s2019posters.find_all(\"li\")\n",
    "# find text between <li> and <span>\n",
    "names2019posters = []\n",
    "for i in p2019posters:\n",
    "    names2019posters.append(i.text.split(\"<span\")[0])\n",
    "\n",
    "#if there is a \\xa0 in the row add the text before it to the new variable\n",
    "names2019posters2 = []\n",
    "for i in names2019posters:\n",
    "    if \"\\xa0\" in i:\n",
    "        names2019posters2.append(i.split(\"\\xa0\")[0])\n",
    "\n",
    "t = []\n",
    "# split both for comman and \"and\" and add to new variable\n",
    "for i in names2019posters2:\n",
    "    k = i.split(\",\")\n",
    "    for j in k:\n",
    "        t.append(j)\n",
    "names2019p = []\n",
    "for i in t:\n",
    "    if \" and \" in i:\n",
    "        names2019p.append(i.split(\" and \")[0])\n",
    "        names2019p.append(i.split(\" and \")[1])\n",
    "    else: names2019p.append(i)\n",
    "\n",
    "# for all names in the list clean the string\n",
    "names2019p2 = []\n",
    "for i in names2019p:\n",
    "    names2019p2.append(i.strip())\n",
    "\n",
    "#display the list\n",
    "names2019posters = names2019p2\n"
   ],
   "metadata": {
    "collapsed": false
   }
  },
  {
   "cell_type": "code",
   "execution_count": 5,
   "outputs": [
    {
     "name": "stdout",
     "output_type": "stream",
     "text": [
      "2019 unique researchers oral and posters:  453\n"
     ]
    }
   ],
   "source": [
    "#2019 analysis\n",
    "# how many unique researchers in 2019 both oral and posters\n",
    "print(\"2019 unique researchers oral and posters: \", len(set(names2019c + names2019posters)))\n",
    "\n"
   ],
   "metadata": {
    "collapsed": false
   }
  },
  {
   "cell_type": "code",
   "execution_count": 21,
   "outputs": [
    {
     "data": {
      "text/plain": "['Alex Pentland',\n 'Esteban Moro',\n 'Manuel Herranz',\n 'Vedran Sekara',\n 'Yan Leng',\n 'Diogo Pacheco',\n 'Kaicheng Yang',\n 'Pik-mai Hui',\n 'Dashun Wang',\n 'Lu Liu',\n 'Jana Diesner',\n 'Rezvaneh Rezapour',\n 'Shubhanshu Mishra',\n 'Kostas Stathoulopoulos',\n 'Zac Ioannidis',\n 'Antonio Arechar',\n 'David Rand',\n 'Dean Eckles',\n 'Gordon Pennycook',\n 'Mohsen Mosleh',\n 'Ziv Epstein',\n 'Bryan Daniels',\n 'Chris Myers',\n 'David Krakauer',\n 'Edward Lee',\n 'Jessica Flack',\n 'Andras Voros',\n 'Christoph Stadtfeld',\n 'Hannah Muelder',\n 'Kieran Mepham',\n 'Marloes Maathuis',\n 'Christoph Kern',\n 'Denis Bonnay',\n 'Ruben Bach',\n 'Alvin Zhou',\n 'Kokil Jaidka',\n 'Yphtach Lelkes',\n 'Ashton Anderson',\n 'Isaac Waller',\n 'Alessandro Artoni',\n 'Francesco Pierri',\n 'Stefano Ceri',\n 'Alejandro Andrade',\n 'Anna Shvarts',\n 'Arthur Bakker',\n 'Dor Abrahamson',\n 'Lu Ou',\n 'Maria Bolsinova',\n 'Rosa Alberto',\n 'Alexandru Cernat',\n 'Florian Keusch',\n 'Alex Pentland',\n 'Dean Eckles',\n 'Martin Saveski',\n 'Yan Leng',\n 'Alexander Stewart',\n 'Antonio Arechar',\n 'David Rand',\n 'Joshua Plotkin',\n 'Marina Diakonova',\n 'Mohsen Mosleh',\n 'Carlos Fernandez',\n 'Foster Provost',\n 'Dean Eckles',\n 'Kiran Garimella',\n 'Ashton Anderson',\n 'Jon Kleinberg',\n 'Reid Mcilroy-young',\n 'Siddhartha Sen',\n 'Adam Hughes',\n 'David Lazer',\n 'Emma Remy',\n 'Sono Shah',\n 'Stefan Mccabe',\n 'William Hobbs',\n 'Alessandra Russo',\n 'Avelie Stuart',\n 'Elahe Naserian',\n 'Luke Dickens',\n 'Miriam Koschate',\n 'Florian Keusch',\n 'Frauke Kreuter',\n 'Georg-christoph Haas',\n 'Mark Trappmann',\n 'Sebastian Bahr',\n 'Elahe Naserian',\n 'Miriam Koschate-reis',\n 'Jan Overgoor',\n 'Johan Ugander',\n 'Pakapol Supaniratisai',\n 'Drew Dimmery',\n 'Yan Leng',\n 'Ceren Budak',\n 'Lia Bozarth',\n 'Alex Pentland',\n 'Dan Calacci',\n 'Ho-chun Chang',\n 'Soyun Ahn',\n 'Ana-andreea Stoica',\n 'Augustin Chaintreau',\n 'Jessy Han',\n 'Bedoor Alshebli',\n 'Gururaghav Raman',\n 'Jimmy Peng',\n 'Marcin Waniek',\n 'Talal Rahwan',\n 'Daniele Quercia',\n 'Luca Aiello',\n 'Milan Janosov',\n 'Chenhao Tan',\n 'Qin Lv',\n 'Shuo Zhang',\n 'Aaron Schein',\n 'David Blei',\n 'Dhanya Sridhar',\n 'Donald Green',\n 'James Moffet',\n 'Jeffrey Quinn',\n 'Keyon Vafa',\n 'Naseem Makiya',\n 'Victor Veitch',\n 'Adam Berinsky',\n 'Ali Jadbabaie',\n 'Amir Tohidi',\n 'Dean Eckles',\n 'Manon Revel',\n 'Alex Pentland',\n 'Felipe Montes',\n 'German Sanchez',\n 'Isabella Loaiza',\n 'Lina Ramos',\n 'Francesco Rampazzo',\n 'Katherine Pham',\n 'Leah Rosenzweig',\n 'Matthewo Mildenberger',\n 'Parrish Bergquist',\n 'Christos Nicolaides',\n 'Dean Eckles',\n 'Brandon Roy',\n 'Deb Roy',\n 'Emre Calisir',\n 'Marco Brambilla',\n 'David Rand',\n 'Erin Wamsley',\n 'Graelyn Humiston',\n 'Bas Hofstra',\n 'Charles Gomez',\n 'Sebastian Munoz-najar',\n 'Fast Prediction of Interdependent Economic',\n 'Social',\n 'and Transportation Flows in an Adversarial Environment',\n 'Alexander Waagen',\n 'Charles Martin',\n 'Tasi-ching Lu',\n 'Derek Weber',\n 'Lewis Mitchell',\n 'Lucia Falzon',\n 'Mehwish Nasim',\n 'Matthewhew Turner',\n 'Paul Smaldino',\n 'Jacob Staerk-ostergaard',\n 'Robin Engelhardt',\n 'Brian Uzzi',\n 'Ryan Whalen',\n 'Sourav Medya',\n 'Daniel Romero',\n 'Edward Platt',\n 'Herminio Bodon',\n 'Kiran Garimella',\n 'Kirill Martynov',\n 'Robert West',\n 'Antonio Arechar',\n 'David Rand',\n 'Gord Pennycook',\n 'Jennifer Allen',\n 'Chris Riedl',\n 'Patrick Forber',\n 'Rory Smead',\n 'Zach Fulker',\n 'Antonio Sirianni',\n 'Charles Gomez',\n 'Launy Schweiger',\n 'Kostas Stathoulopoulos',\n 'Zac Ioannidis',\n 'Alexandre Bovet',\n 'Anamika Shreeva',\n 'Anna Keuchenius',\n 'Chico Camargo',\n 'Irene Malvestio',\n 'Lea Brandt',\n 'Mikolaj Biesaga',\n 'Sabin Roman',\n 'Luca Verginer',\n 'Massimo Riccaboni',\n 'Pietro Panzarasa',\n 'Xiancheng Li',\n 'Feng Fu',\n 'Ho-chun Chang',\n 'Henner Gimpel',\n 'Manfred Schoch',\n 'Ricarda Schafer',\n 'Robert Laubacher',\n 'Doyne Farmer',\n 'Francois Lafond',\n 'Mariano Beguerisse-diaz',\n 'Penny Mealy',\n 'R. Rio-chanona',\n 'Haewoon Kwak',\n 'Hyeonho Song',\n 'Kunwoo Park',\n 'Meeyoung Cha',\n 'Hannes Ullrich',\n 'Michael Ribers',\n 'Alex Pentland',\n 'Dhaval Adjodah',\n 'Esteban Moro',\n 'Peter Kraft',\n 'Shi Chong',\n 'Yan Leng',\n 'Ashkan Kazemi',\n 'Jenna Sherman',\n 'Nat Gyenes',\n 'Scott Hale',\n 'Alfredo Morales',\n 'Dominic Saad',\n 'Mark Sutcliffe',\n 'Yaneer Bar-yam',\n 'Aparna Ananthasubramaniam',\n 'Daniel Romero',\n 'David Jurgens',\n 'Brian Aronson',\n 'Kaicheng Yang',\n 'Yy Ahn',\n 'Jodi Basner',\n 'Karen White',\n 'Wan-ying Chang',\n 'Akira Matsui',\n 'Andres Abeliuk',\n 'Aram Galstyan',\n 'Emilio Ferrara',\n 'Fred Morstatter',\n 'Bryan Moser',\n 'Ira Winder',\n 'Jeff Dieffenbach',\n 'Katherine Carroll',\n 'Keran Rong',\n 'Prakash Manandhar',\n 'Roland Filippi',\n 'John Scott',\n 'Renzhe Yu',\n 'Dashun Wang',\n 'Yang Wang',\n 'Zhen Lei',\n 'Zhongyang He',\n 'Poong Oh',\n 'Soojong Kim',\n 'Ceren Budak',\n 'Danaja Maldeniya',\n 'Daniel Romero',\n 'Lionel Robert',\n 'Fosca Giannotti',\n 'Ioanna Miliou',\n 'Lorenzo Gabrielli',\n 'Luca Pappalardo',\n 'Vasiliki Voukelatou',\n 'Lewis Mitchell',\n 'Matthewhew Roughan',\n 'Tobin South',\n 'Janos Kertesz',\n 'Julia Koltai',\n 'Marton Karsai',\n 'Zoltan Kmetty',\n 'Amir Karami',\n 'Frank Webb',\n 'Anna Keuchenius',\n 'Justus Uitermark',\n 'Petter Tornberg',\n 'Karoly Bozsonyi',\n 'Zoltan Kmetty',\n 'Arun Frey',\n 'Christopher Barrie',\n 'Jaeryoung Ka',\n 'Jeongwook Kim',\n 'Jiwan Jeong',\n 'Jiyoung Han',\n 'Junbum Lee',\n 'Meeyoung Cha',\n 'Shohei Doi',\n 'Shuhei Kurizaki',\n 'Takayuki Mizuno',\n 'Dilara Kekulluoglu',\n 'Kami Vaniea',\n 'Walid Magdy',\n 'Cameron Martel',\n 'Hannah Weinberg-wolf',\n 'Jeremy Dohmann',\n 'Steve Chang',\n 'Eevastiina Gjerstad',\n 'Lili Aunimo',\n 'Allen Moulton',\n 'Nazli Choucri',\n 'Stuart Madnick',\n 'Adam Bear',\n 'Ben Tappin',\n 'David Rand',\n 'Florian Cafiero',\n 'Jeremy Ward',\n 'Paul Guille-escuret',\n 'Edwin Jonge',\n 'Gert Buiten',\n 'Haewoon Kwak',\n 'Ingmar Weber',\n 'Jisun An',\n 'Luis Luque',\n 'Christian Almenar',\n 'Esteban Moro',\n 'Iyad Rahwan',\n 'Manuel Cebrian',\n 'Matthew Groh',\n 'Micah Epstein',\n 'Niccolo Pescetelli',\n 'Nick Obradovich',\n 'Ziv Epstein',\n 'Bernie Hogan',\n 'Sian Brooke',\n 'Robert Mahari',\n 'Sandor Lera',\n 'Daekyung Lee',\n 'Heetae Kim',\n 'Sang Lee',\n 'Cody Buntain',\n 'Jacob Shapiro',\n 'Joshua Tucker',\n 'Meysam Alizadeh',\n 'Charles Howland',\n 'David Rothschild',\n 'Duncan Watts',\n 'Jennifer Allen',\n 'Tobias Konitzer',\n 'Cheng-jun Wang',\n 'Huimin Xu',\n 'Cuihua Shen',\n 'Jian Zhu',\n 'Seth Frey',\n 'Yixin Zhou',\n 'Alessandro Flammini',\n 'Filippo Menczer',\n 'Kaicheng Yang',\n 'Mohsen Sayyadiharikandeh',\n 'Onur Varol',\n 'Hunter Heidenreich',\n 'Jake Williams',\n 'Munif Mujib',\n 'Jana Diesner',\n 'Mihai Avram',\n 'Nikolaus Parulian',\n 'Shubhanshu Mishra',\n 'Tiffany Lu',\n 'Jana Diesner',\n 'Janina Sarol',\n 'Ly Dinh',\n 'Bill Thompson',\n 'Mathew Hardy',\n 'Peaks Krafft',\n 'Tom Griffiths',\n 'Bruno Lepri',\n 'Giulia Cencetti',\n 'Lorenzo Lucchini',\n 'Riccardo Gallotti',\n 'Bruno Lepri',\n 'Marco Nadai',\n 'Massimiliano Luca',\n 'Ceren Budak',\n 'Lia Bozarth',\n 'Christoph Kern',\n 'Frauke Kreuter',\n 'Masha Krupenkin',\n 'Ruben Bach',\n 'Armin Pournaki',\n 'Eckehard Olbrich',\n 'Felix Gaisbauer',\n 'Sven Banisch',\n 'Ivan Smirnov',\n 'Sofia Dokuka',\n 'David Jurgens',\n 'Eshwar Chandrasekharan',\n 'Jiajun Bao',\n 'Junjie Wu',\n 'Yiming Zhang',\n 'Cristian Vallejos',\n 'Miguel Guevara',\n 'Alex Pentland',\n 'Dean Eckles',\n 'Eaman Jahani',\n 'Ivan Garibay',\n 'Seyyedmilad Talebzadehhosseini',\n 'Joshua Introne',\n 'Niraj Sitaula',\n 'Fan Yang',\n 'Qian Liu',\n 'Abhi Dubey',\n 'Matthew Groh',\n 'Oceane Boulais',\n 'Ziv Epstein',\n 'Hang-hyun Jo',\n 'Jeehye Choi',\n 'Lingfei Wu',\n 'Linzhuo Li',\n 'Agnes Horvat',\n 'Johannes Wachs',\n 'Nicholas Hagar',\n 'David Rand',\n 'Gordon Pennycook',\n 'Ziv Epstein',\n 'Eun Lee',\n 'Ovidia Stanoi',\n 'Peter Much',\n 'Henrik Olsson',\n 'Tamara Does',\n 'Vicky Yang',\n 'Azadeh Nematzadeh',\n 'Daniel Romero',\n 'Emilio Ferrara',\n 'Hao Peng',\n 'Qiaozhu Mei',\n 'Wei Ai',\n 'Xuan Lu',\n 'Xuanzhe Liu',\n 'Yanbin Cao',\n 'Anna Cigarini',\n 'Josep Perello',\n 'Julian Vicens',\n 'Contagion',\n 'diffusion',\n 'and markets',\n 'Ji Kim',\n 'Milena Tsvetkova',\n 'Alessandro Rizzo',\n 'Matthewhieu Nadini',\n 'Maurizio Porfiri',\n 'Jason Burton',\n 'Ulrike Hahn',\n 'Kenneth Joseph',\n 'Yuhao Du',\n 'Aaron Clauset',\n 'Allison Morgan',\n 'Daniel Larremore',\n 'Michael Hoefer',\n 'Mirta Galesic',\n 'Samuel Way',\n 'Alessandro Flammini',\n 'Diogo Pacheco',\n 'Filippo Menczer',\n 'Alice Jang',\n 'Jesse Shore',\n 'Amol Bhondekar',\n 'Rishemjit Kaur',\n 'Ritesh Kumar',\n 'Tian Yang',\n 'Yilang Peng',\n 'Contagion',\n 'diffusion',\n 'and markets',\n 'Junming Huang',\n 'Tao Jia',\n 'Xiaoyao Yu',\n 'Brian Uzzi',\n 'Mohammad Rasoolinejad',\n 'Juan Serrano',\n 'Orestis Papakyriakopoulos',\n 'Simon Hegelich',\n 'Contagion',\n 'diffusion',\n 'and markets',\n 'Alex Arenas',\n 'Javier Borge-holthoefer',\n 'Josep Perello',\n 'Mario Gutierrez-roig',\n 'Benjamin Jones',\n 'Dashun Wang',\n 'Kuansan Wang',\n 'Yian Yin',\n 'Yuxiao Dong',\n 'Baird Howland',\n 'Daniel Muise',\n 'David Rothschild',\n 'Duncan Watts',\n 'Homa Hosseinmardi',\n 'Markus Mobius',\n 'Benjamin Horne',\n 'Cody Buntain',\n 'Mauricio Gruppi',\n 'Milo Trujillo',\n 'Dean Eckles',\n 'Jeremy Yang',\n 'Paramveer Dhillon',\n 'Sinan Aral',\n 'David Rand',\n 'Gordon Pennycook',\n 'Jon Mcphetres',\n 'Xi Chen',\n 'Albert Kao',\n 'Alex Rutherford',\n 'Iyad Rahwan',\n 'Niccolo Pescetelli',\n 'Contagion',\n 'diffusion',\n 'and markets',\n 'The Implied Market Values of Skills - Job Postings',\n 'Skill Demands',\n 'Automation',\n 'Ashwin Rajadesingan',\n 'Ceren Budak',\n 'Paul Resnick',\n 'Aaron Shaw',\n 'Benjamin Hill',\n 'Nathante Teblunthuis',\n 'Contagion',\n 'diffusion',\n 'and markets',\n 'Daniel Mcfarland',\n 'Hancheng Cao',\n 'Mengjie Cheng',\n 'Xiang Ren',\n 'Zhepeng Cen',\n 'Bedoor Alshebli',\n 'Kinga Makovi',\n 'Talal Rahwan',\n 'Douglas Guilbeault',\n 'Joshua Becker',\n 'Samuel Woolley',\n 'Ashton Anderson',\n 'Dan Goldstein',\n 'Duncan Watts',\n 'George Lifchits',\n 'Jake Hofman',\n 'Contagion',\n 'diffusion',\n 'and markets',\n 'Alex Pentland',\n 'Burcin Bozkaya',\n 'Hasan Boz',\n 'Mohsen Bahrami',\n 'Selim Balcisoy',\n 'Yoshihiko Suhara',\n 'Arkadiusz Wisniowski',\n 'Dilek Yildiz',\n 'Emilio Zagheni',\n 'Guy Abel',\n 'Ingmar Weber',\n 'Stijn Hoorens',\n 'Denis Helic',\n 'Florian Lemmerich',\n 'Markus Strohmaier',\n 'Tiago Santos',\n 'Alla Baranovsky',\n 'Eaman Jahani',\n 'Irene Pasquetto',\n 'Matthewhew Baum',\n 'Benjamin Ooghe-tabanou',\n 'Dominique Cardon',\n 'Guillaume Plique',\n 'Jean-philippe Cointet',\n 'Iyad Rahwan',\n 'Manuel Cebrian',\n 'Matthew Groh',\n 'Nick Obradovich',\n 'Ziv Epstein',\n 'Christoph Dann',\n 'Dustin Tingley',\n 'Emma Brunskill',\n 'Glenn Lopez',\n 'Joseph Williams',\n 'Justin Reich',\n 'Mike Yeomans',\n 'Rene Kizilcec',\n 'Selen Turkay',\n 'Neil Johnson',\n 'Nicholas Johnson',\n 'Nicolas Velazquez-hernandez',\n 'Rhys Leahy',\n 'Yonatan Lupu',\n 'Naoki Maejima',\n 'Shohei Usui',\n 'Susumu Nagayama',\n 'Takanori Nishida',\n 'Kazutoshi Sasahara',\n 'Michio Hosaka',\n 'Shimpei Okuda',\n 'Deb Roy',\n 'Doug Beeferman',\n 'Eric Chu',\n 'Nabeel Gillani',\n 'Bruno Lepri',\n 'Federico Battiston',\n 'Giulia Cencetti',\n 'Marton Karsai',\n 'Adina Nerghes',\n 'Anne Toonders',\n 'David Dekker',\n 'Ju-sung Lee',\n 'Florian Lemmerich',\n 'Ivan Smirnov',\n 'Markus Strohmaier',\n 'Satyam Mukherjee',\n 'Tarun Jain',\n 'The Importance of Work',\n 'Family',\n 'Neighbour and School Networks for Social Segregation',\n 'Edwin Jonge',\n 'Jan Laan',\n 'Emilio Ferrara',\n 'Emily Chen',\n 'Fred Morstatter',\n 'Julie Jiang',\n 'Kristina Lerman',\n 'Anna Croley',\n 'David Rothschild',\n 'Duncan Watts',\n 'Homa Hosseinmardi',\n 'Ling Dong',\n 'Markus Mobius',\n 'Armin Pournaki',\n 'Eckehard Olbrich',\n 'Felix Gaisbauer',\n 'Sven Banisch',\n 'Maneet Singh',\n 'Rishemjit Kaur',\n 'S R',\n 'Ashton Anderson',\n 'Ian Anderson',\n 'Lucas Maystre',\n 'Mounia Lalmas',\n 'Rishabh Mehrotra',\n 'Andrea Parker',\n 'Brooke Welles',\n 'Elizabeth Stowell',\n 'Ryan Gallagheer',\n 'Florian Cafiero',\n 'Gerald Bronner',\n 'Laurent Cordonier',\n 'Dan Jurafsky',\n 'Julia Mendelsohn',\n 'Yulia Tsvetkov',\n 'Sameness Attracts',\n 'Novelty Disturbs',\n 'but Outliers Flourish in Fanfiction Online',\n 'Elise Jing',\n 'Simon Dedeo',\n 'Yy Ahn',\n 'Daniel Goldstein',\n 'Forough Poursabzi-sangdeh',\n 'Jake Hofman',\n 'Siddhartha Sen',\n 'Farshad Kooti',\n 'Kristen Altenburger',\n 'Laila Wahedi',\n 'Allison Koencke',\n 'Andrew Nam',\n 'Connor Toups',\n 'Dan Jurafsky',\n 'Emily Lake',\n 'Joe Nudell',\n 'John Rickford',\n 'Minnie Quartey',\n 'Sharad Goel',\n 'Zion Mengesha',\n 'Neil Johnson',\n 'Nicholas Johnson-restrepo',\n 'Nicolas Velasquez',\n 'Rhys Leahy',\n 'Yonatan Lupu',\n 'Ceren Budak',\n 'Christopher Quarles',\n 'Paul Resnick',\n 'Agnese Chiatti',\n 'Andrew Fitzgerald',\n 'Byron Reeves',\n 'Jihye Lee',\n 'Katie Roehrick',\n 'Mu-jung Cho',\n 'Nilam Ram',\n 'Thomas Robinson',\n 'Xiao Yang',\n 'Xiaoran Sun',\n 'Brian Uzzi',\n 'Cristian Vallejos',\n 'Joseph Hoover',\n 'Nour Kteily',\n 'Qiaozhu Mei',\n 'Wei Ai',\n 'Xuan Lu',\n 'Xuanzhe Liu',\n 'Yanbin Cao',\n 'Jana Diesner',\n 'Kanyao Han',\n 'Kehan Li',\n 'Pingjing Yang',\n 'Shubhanshu Mishra',\n 'Ana Brito',\n 'Diego Amancio',\n 'Filipi Silva',\n 'Ashwin Rajadesingan',\n 'David Jurgens',\n 'Ramaswami Mahalingam',\n 'Cristian Vallejos',\n 'Flavio Pinheiro',\n 'Joselina Davyt',\n 'Miguel Guevara',\n 'Aaron Halfaker',\n 'Benjamin Hill',\n 'Nathante Teblunthuis',\n 'Haewoon Kwak',\n 'Jisun An',\n 'Yy Ahn',\n 'Nicole Nisbett',\n 'Viktoria Spaiser',\n 'Henriette Cramer',\n 'Jean Garcia-gathright',\n 'Samuel Way',\n 'Jeffery Schank',\n 'Sydney Wood',\n 'Andres Abeliuk',\n 'Emilio Ferrara',\n 'Kristina Lerman',\n 'Zhishen Huang',\n 'Cassidy Sugimoto',\n 'Dakota Murray',\n 'Lili Miao',\n 'Vincent Lariviere',\n 'Woo-sung Jung',\n 'Yy Ahn',\n 'Filippo Menczer',\n 'John Bollenbacher',\n 'Alessandro Flammini',\n 'Diogo Pacheco',\n 'Filippo Menczer',\n 'John Bollenbacher',\n 'Pik-mai Hui',\n 'Yy Ahn',\n 'Ben Rachunok',\n 'Roshi Nateghi',\n 'Akshay Aravamudan',\n 'Anna Koufakou',\n 'Chathika Gunaratne',\n 'Georgios Anagnostopoulos',\n 'Ivan Garibay',\n 'Xi Zhang',\n 'Hugo Contreras',\n 'Leo Ferres',\n 'Andrew Wang',\n 'Cynthia Habonimana',\n 'Rediet Abebe',\n 'Christopher Quarles',\n 'Lia Bozarth',\n 'Anri Suzuki',\n 'Fujio Toriumi',\n 'Lisa Friedland',\n 'Nir Grinberg',\n 'Swati Goel',\n 'Hyeonho Song',\n 'Kunwoo Park',\n 'Meeyoung Cha',\n 'Daniel Romero',\n 'Maxim Sytch',\n 'Patrick Park',\n 'Christian Strippel',\n 'Joachim Trebbe',\n 'Laura Laugwitz',\n 'Martin Emmer',\n 'Sabina Hartnett',\n 'Sunje Paasch-colberg',\n 'Balazs Nagy',\n 'Dorottya Demszky',\n 'Julia Koltai',\n 'Martina Szabo',\n 'Orsolya Ring',\n 'Veronika Vincze',\n 'Zoltan Kmetty',\n 'Daniel Schroeder',\n 'Johannes Langguth',\n 'Konstantin Pogorelov',\n 'Petra Filkukova',\n 'Anahit Sargsyan',\n 'Flavio Pinheiro',\n 'Mona Zubaidi',\n 'Mark Whiting',\n 'Michael Bernstein',\n 'Phoebe Yao',\n 'Haewoon Kwak',\n 'Jisun An',\n 'Yy Ahn',\n 'Lyrics',\n 'Topics',\n 'Musics and Their Mouse Clicks – Correlating Song Lyrics and Audio Feature Dimensions and How They Relate to the Popularity of Songs on Online Music Platforms',\n 'Christoph Reuter',\n 'Isabella Czedik-eysenberg',\n 'Oliver Wieczorek',\n 'Adam Sawyer',\n 'George Barnett',\n 'Seth Frey',\n 'Jean-michel Dalle',\n 'Jose Halloy',\n 'Theophile Carniel',\n 'Brett Bourbon',\n 'Renita Murimi',\n 'Giddy Minds and Foreign Quarrels. The strategic coverage of international conflicts by Russian media',\n '2008 - 2019',\n 'Alfredo Morales',\n 'Egemen Sert',\n 'Oral Okan',\n 'Ahmet Kurnaz',\n 'Scott Hale',\n 'Johannes Wachs',\n 'Julia Koltai',\n 'Karoly Takacs',\n 'Laszlo Lorincz',\n 'Jana Diesner',\n 'Lan Jiang',\n 'Ly Dinh',\n 'Rezvaneh Rezapour',\n 'Haylee Ham',\n 'Milena Tsvetkova',\n 'Oana Vuculescu',\n 'Rinat Sergeev',\n 'Sebastian Muller',\n 'Abeer Aldayel',\n 'Walid Magdy',\n 'Winners',\n 'Losers',\n 'and Future Achievement',\n 'Brian Uzzi',\n 'Dashun Wang',\n 'Nima Dehmamy',\n 'Suman Maity',\n 'Victoria Medvec',\n 'Yang Wang',\n 'Muyang Li',\n 'Zhifan Luo',\n 'Arun Sen',\n 'Kaustav Basu',\n 'Alexander Mantzaris',\n 'Amirarsalan Rajabi',\n 'Cameron Taylor',\n 'Ivan Garibay',\n 'Alexander Loser',\n 'Betty Aken',\n 'Christian Strippel',\n 'Joachim Trebbe',\n 'Laura Laugwitz',\n 'Martin Emmer',\n 'Sunje Paasch-colberg',\n 'Brian Uzzi',\n 'Mohammad Rasoolinejad',\n 'Sourav Medya',\n 'Ali Tafti',\n 'Hyejin Youn',\n 'Mohamad Hosseinioun',\n 'Bari Bendell',\n 'Dmitry Zinoviev',\n 'Pelin Bicen',\n 'Marc Rauckhorst',\n 'Nupur Baghel',\n 'Roshan Santhosh',\n 'Shubham Annadate',\n 'Shweta Chopra',\n 'Yi-nung Huang',\n 'Aniko Hannak',\n 'Kenneth Joseph',\n 'Stefania Ionescu',\n 'Luca Verginer',\n 'Massimo Riccaboni',\n 'Pietro Panzarasa',\n 'Xiancheng Li',\n 'Yifan Qian',\n 'Alex Pentland',\n 'Alia Braley',\n 'Dan Calacci',\n 'Dhaval Adjodah',\n 'Filippo Simini',\n 'Flavia Luca',\n 'Robert Eyre',\n 'Ismail Uluturk',\n 'Onur Varol',\n 'Alex Pentland',\n 'Ding Lyu',\n 'Lin Wang',\n 'Xiaofan Wang',\n 'Evgenia Dolgova',\n 'Pursey Heugens',\n 'Gwilym Pryce',\n 'Mohammed Aleinzi',\n 'Nathan Hughes',\n 'Roland Toth',\n 'Tatiana Trifonova',\n 'David Bartl',\n 'Jaroslav Ramik',\n 'Jiri Mazurek',\n 'Radomir Perzina',\n 'Adam Richards',\n 'Andrew Ledbetter',\n 'Jie Zhuang',\n 'Qinghua Yang',\n 'Andreas Witt',\n 'Diana Steffen',\n 'Jana Diesner',\n 'Jutta Bopp',\n 'Norman Fiedler',\n 'Rezvaneh Rezapour',\n 'Renata Nemeth',\n 'Zoltan Kmetty',\n 'Aaron Clauset',\n 'Daniel Larremore',\n 'Sam Zhang',\n 'Dakota Murray',\n 'Jisung Yoon',\n 'Rodrigo Costas',\n 'Stasa Milojevic',\n 'Woo-sung Jung',\n 'Yy Ahn',\n 'Hendrik Schawe',\n 'Laura Hernandez',\n 'Christopher Danforth',\n 'Joshua Minot',\n 'Michael Arnold',\n 'Peter Dodds',\n 'Thayer Alshaabi',\n 'Esteban Moro',\n 'Inaki Ucar',\n 'Marco Fiore',\n 'Marco Gramaglia',\n 'Zbigniew Smoreda',\n 'Amir Goldberg',\n 'Paul Vicinanza',\n 'Sameer Srivastava',\n 'Filippo Menczer',\n 'Kaicheng Yang',\n 'Onur Varol',\n 'Pik-mai Hui',\n 'Kokil Jaidka',\n 'Subhayan Mukerjee',\n 'Yphtach Lelkes',\n 'Dashun Wang',\n 'Lu Liu',\n 'Nima Dehmamy',\n 'Benoit Schmutz',\n 'Germain Gauthier',\n 'Pierre Boyer',\n 'Thomas Delemotte',\n 'Vincent Rollet',\n 'Jonathan Morgan',\n 'Kenneth Joseph',\n 'Aaron Clauset',\n 'Daniel Larremore',\n 'Kenneth Wapman',\n 'Dean Eckles',\n 'Kiran Garimella',\n 'Maurice Jakesch',\n 'Mor Naaman',\n 'Polarization',\n 'Inaccurate Meta-perceptions',\n 'and the Erosion of Democratic Norms',\n 'Alex Pentland',\n 'Alia Braley',\n 'Dhaval Adjodah',\n 'Hossein Rahmana',\n 'Chris Bail',\n 'Douglas Guilbeault',\n 'Eaman Jahani',\n 'Friedolin Merhout',\n 'Natalie Gallagher',\n 'Nicolo Cavalli',\n 'Yan Leng',\n 'Fabrizio Lillo',\n 'Francesca Chiaromonte',\n 'Giorgio Tripodi',\n 'Itto Kornecki',\n 'Mikhail Sirenko',\n 'Nuno Araujo',\n 'Scott Cunningham',\n 'Trivik Verma',\n 'Caterina Gennaioli',\n 'Jianjian Gao',\n 'Pietro Panzarasa',\n 'Sam Fankhauser',\n 'Stefano Carattini',\n 'Alessandro Flammini',\n 'Bao Truong',\n 'Christopher Torres-lugo',\n 'Filippo Menczer',\n 'Pacheco Diogo',\n 'Pik-mai Hui',\n 'David Jurgens',\n 'Hao Peng',\n 'Misha Teplitskiy',\n 'Agnes Horvat',\n 'Henry Dambanemuya',\n 'Madhav Joshi',\n 'Alex Pentland',\n 'Dan Calacci',\n ...]"
     },
     "execution_count": 21,
     "metadata": {},
     "output_type": "execute_result"
    }
   ],
   "source": [],
   "metadata": {
    "collapsed": false
   }
  }
 ],
 "metadata": {
  "kernelspec": {
   "display_name": "Python 3",
   "language": "python",
   "name": "python3"
  },
  "language_info": {
   "codemirror_mode": {
    "name": "ipython",
    "version": 2
   },
   "file_extension": ".py",
   "mimetype": "text/x-python",
   "name": "python",
   "nbconvert_exporter": "python",
   "pygments_lexer": "ipython2",
   "version": "2.7.6"
  }
 },
 "nbformat": 4,
 "nbformat_minor": 0
}
