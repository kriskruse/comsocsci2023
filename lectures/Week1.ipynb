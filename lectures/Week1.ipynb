{
 "cells": [
  {
   "attachments": {},
   "cell_type": "markdown",
   "metadata": {
    "pycharm": {
     "name": "#%% md\n"
    }
   },
   "source": [
    "# Week 1\n",
    "\n",
    "## Overview\n",
    "\n",
    "As explained in the [*Before week 1* notebook](https://nbviewer.org/github/lalessan/comsocsci2023/blob/master/lectures/Before_week_1.ipynb), each week of this class is a Jupyter notebook like this one. **_In order to follow the class, you simply start reading from the top_**, following the instructions.\n",
    "\n",
    "**Hint**: And you can ask me or your amazing TA for help at any point if you get stuck!"
   ]
  },
  {
   "cell_type": "markdown",
   "metadata": {
    "collapsed": true,
    "pycharm": {
     "name": "#%% md\n"
    }
   },
   "source": [
    "## Today\n",
    "\n",
    "This first lecture will go over a few different topics to get you started:\n",
    "\n",
    "* **Part 1:** You picked this course in **Computational Social Science** but... *What does that even mean??* The first thing we will do today is to learn a bit more about it by reading some chapters of the book and listen to a short lecture by me.\n",
    "\n",
    "* **Part 2:**  In the second part of this class, I will introduce you to **a topic we will work on for the rest of this course** and I will ask you to reflect upon it.\n",
    "\n",
    "* **Part 3:**  In the final part of this class, we will start working on something hands on. We will use **Web scraping** to gather some data. \n"
   ]
  },
  {
   "cell_type": "markdown",
   "metadata": {
    "pycharm": {
     "name": "#%% md\n"
    }
   },
   "source": [
    "## Part 1: Intro to Computational Social Science\n",
    "\n",
    "\n",
    "*What is Computational Social Science?* In the video below, I will give you some answers. There will be a little bit of history, example of topics and datasets, an overview of the methods, and some reflections on the challenges faced by researchers, including in relation to Ethics and Privacy. "
   ]
  },
  {
   "cell_type": "markdown",
   "metadata": {
    "pycharm": {
     "name": "#%% md\n"
    }
   },
   "source": [
    "\n",
    "> **_Video lecture_**: Watch the video below about Computational Social Science"
   ]
  },
  {
   "cell_type": "code",
   "execution_count": 4,
   "metadata": {
    "scrolled": true,
    "pycharm": {
     "name": "#%%\n"
    }
   },
   "outputs": [
    {
     "data": {
      "image/jpeg": "[encoded data removed]",
      "text/html": [
       "\n",
       "        <iframe\n",
       "            width=\"600\"\n",
       "            height=\"337.5\"\n",
       "            src=\"https://www.youtube.com/embed/3dA1GYdSg-A\"\n",
       "            frameborder=\"0\"\n",
       "            allowfullscreen\n",
       "            \n",
       "        ></iframe>\n",
       "        "
      ],
      "text/plain": [
       "<IPython.lib.display.YouTubeVideo at 0x7fba603e09a0>"
      ]
     },
     "execution_count": 4,
     "metadata": {},
     "output_type": "execute_result"
    }
   ],
   "source": [
    "from IPython.display import YouTubeVideo\n",
    "YouTubeVideo(\"3dA1GYdSg-A\",width=600, height=337.5)\n"
   ]
  },
  {
   "cell_type": "markdown",
   "metadata": {
    "pycharm": {
     "name": "#%% md\n"
    }
   },
   "source": [
    "In this course, we are going to read some parts of the amazing book by Matthew Salganik [\"_Bit By Bit: Social Research in the Digital Age_\"](https://www.bitbybitbook.com/). \n",
    "Salganik is a professor in Sociology at Princeton, and an active researcher in Computational Social Science. \n",
    "You can read the book online, but I encourage you to buy it. \n",
    "\n",
    "> *Reading*: [Bit by Bit, chapter 1](https://www.bitbybitbook.com/en/1st-ed/introduction/) Start by reading the Introduction of the book, where you will get you an understanding of the history of the field and the general framework.    \n",
    ">\n",
    " > *Reading 2*: [Bit by Bit, chapter 6](https://www.bitbybitbook.com/en/1st-ed/ethics/) Read the Ethics chapter of the book. Here, I don't expect you to read all the details. However, I want to make sure you get an overall understanding of the ethical challenges and some of the approaches that are used in the field to deal with these complex issues. You can focus on sections 6.4 and 6.6.    \n",
    ">\n",
    "> *Optional Reading*: [Computational Social Science](https://www.science.org/doi/pdf/10.1126/science.1167742). This is a crucial article written by some of the pioneers in Computational Social Science. The paper came out in 2009 in the prestigious scientific journal Science. People had already been working on using large-scale data and new computational tools to study society and behaviour, but the article is the first to acknowledge and describe this emerging field. I encourage you to read it or skim through it! "
   ]
  },
  {
   "cell_type": "markdown",
   "metadata": {
    "pycharm": {
     "name": "#%% md\n"
    }
   },
   "source": [
    "> **Exercise 1 : Topics in Computational Social Science** By now, you must have a grasp of what Computational Social Science is about.\n",
    ">\n",
    "> - Work in pairs. Based on what you know so far, come up with three social science topics that you think it would be interesting and possible to work on using computational social science methods.\n",
    "> - Do you have an idea of the data that you could use for your research? Come up with one dataset for each of the topics you have identified (if you have any doubt you can talk to me or your TA).\n",
    "> - One person per pair: go to [DTU Learn](https://learn.inside.dtu.dk/d2l/home/145262) and fill the Survey \"_Topics in Computational Social Science_\""
   ]
  },
  {
   "cell_type": "markdown",
   "metadata": {
    "pycharm": {
     "name": "#%% md\n"
    }
   },
   "source": [
    "## Part 2 : A topic we will work on for the rest of this course\n",
    " \n",
    "\n",
    "All right so, as I promised this course will be very hands-on. We will learn some of the methods and modelling approaches used in Computational Social Science and we will put this learning into practice.\n",
    "The way we will do it is that we will apply the methods we learn to study a specific topic throughout the rest of this course.\n",
    "\n",
    "In this video, I will explain to you what the whole project will be about. Ready? Watch the video below!"
   ]
  },
  {
   "cell_type": "markdown",
   "metadata": {
    "pycharm": {
     "name": "#%% md\n"
    }
   },
   "source": [
    "\n",
    "> **_Video lecture_**: Watch the video below\n",
    "    "
   ]
  },
  {
   "cell_type": "code",
   "execution_count": 5,
   "metadata": {
    "pycharm": {
     "name": "#%%\n"
    }
   },
   "outputs": [
    {
     "data": {
      "image/jpeg": "[encoded data removed]",
      "text/html": [
       "\n",
       "        <iframe\n",
       "            width=\"600\"\n",
       "            height=\"337.5\"\n",
       "            src=\"https://www.youtube.com/embed/uEJltY5Pv1U\"\n",
       "            frameborder=\"0\"\n",
       "            allowfullscreen\n",
       "            \n",
       "        ></iframe>\n",
       "        "
      ],
      "text/plain": [
       "<IPython.lib.display.YouTubeVideo at 0x7fba509fec70>"
      ]
     },
     "execution_count": 5,
     "metadata": {},
     "output_type": "execute_result"
    }
   ],
   "source": [
    "from IPython.display import YouTubeVideo\n",
    "YouTubeVideo(\"uEJltY5Pv1U\",width=600, height=337.5)\n"
   ]
  },
  {
   "cell_type": "markdown",
   "metadata": {
    "pycharm": {
     "name": "#%% md\n"
    }
   },
   "source": [
    "> **Exercise 2 : Understanding the field Computational Social Science in a data-driven way**    \n",
    "> In the following of this course, we will do a meta-study on the field of Computational Social Science. \n",
    "> We will start by gathering data on Computational Social Science researchers, their interactions, and their scientific production. \n",
    "> - Work in pairs. Discuss possible data sources that you could collect to address our research question. \n",
    "> - Which dataset(s) would you collect?\n",
    "> - How would you practically collect it? \n",
    "> - What are some limitations of your data? \n",
    "> - One person per pair: go to [DTU Learn](https://learn.inside.dtu.dk/d2l/home/145262) and fill the Survey \"_Data for Computational Social Science_\"\n",
    ">\n",
    ">\n",
    "> Remember that in this exercise, there is not a single correct answer. There could be multiple ways to gather data, and different data sources could shed lights on different aspects of scientists' works and interactions."
   ]
  },
  {
   "cell_type": "markdown",
   "metadata": {
    "pycharm": {
     "name": "#%% md\n"
    }
   },
   "source": [
    "## Prelude to part 3:  Basic HTML\n",
    "\n",
    "In the final part of this class, we will talk about web-scraping. \n",
    "For web-scraping, you need a little bit of knowledge about the structure of web-pages.\n",
    "The standard way to write web-bages is to use a language called HTML. \n",
    "\n",
    "**Useful tutorial:**  If you are not familiar with HTML, I recommend [reading this tutorial](https://www.internetingishard.com/html-and-css/basic-web-pages).\n",
    "\n",
    "**Useful resource:** HTML pages are built in a hierarchical structure and are composed of elements such as tables, titles, paragraphs, sections, etc. A complete list of HTML elements can be found [here](https://developer.mozilla.org/en-US/docs/Web/HTML/Element)."
   ]
  },
  {
   "cell_type": "markdown",
   "metadata": {
    "pycharm": {
     "name": "#%% md\n"
    }
   },
   "source": [
    "## Part 3: Using web-scraping to gather data.\n",
    "\n",
    "All right, so now it's really time to start working on something a bit hands-on. \n",
    "The first thing we need to do is indeed to get DATA. \n",
    "As I said a few times by now, in this class we will do things from scratch. \n",
    "One of the ways to gather data from the web is to use web-scraping, which basically means getting information directly from web-pages. \n",
    "In the video below, I will give a brief overview on how to web-scrape web pages. \n"
   ]
  },
  {
   "cell_type": "markdown",
   "metadata": {
    "pycharm": {
     "name": "#%% md\n"
    }
   },
   "source": [
    "> **_Video lecture_**: Watch the video below about web scraping (you can find [here the notebook that I use in the video](https://nbviewer.org/github/lalessan/comsocsci2023/blob/master/additional_notebooks/ScreenScraping.ipynb)"
   ]
  },
  {
   "cell_type": "code",
   "execution_count": 6,
   "metadata": {
    "pycharm": {
     "name": "#%%\n"
    }
   },
   "outputs": [
    {
     "data": {
      "image/jpeg": "[encoded data removed]",
      "text/html": [
       "\n",
       "        <iframe\n",
       "            width=\"600\"\n",
       "            height=\"337.5\"\n",
       "            src=\"https://www.youtube.com/embed/nK_d0UQp4cE\"\n",
       "            frameborder=\"0\"\n",
       "            allowfullscreen\n",
       "            \n",
       "        ></iframe>\n",
       "        "
      ],
      "text/plain": [
       "<IPython.lib.display.YouTubeVideo at 0x7fba603e0a90>"
      ]
     },
     "execution_count": 6,
     "metadata": {},
     "output_type": "execute_result"
    }
   ],
   "source": [
    "from IPython.display import YouTubeVideo\n",
    "YouTubeVideo(\"nK_d0UQp4cE\",width=600, height=337.5)\n"
   ]
  },
  {
   "cell_type": "markdown",
   "metadata": {
    "pycharm": {
     "name": "#%% md\n"
    }
   },
   "source": [
    "> **Exercise 3 : Web-scraping the list of participants to the International Conference in Computational Social Science**    \n",
    "> It's time to put things into practice. Remember that our goal will be to gather a dataset describing Computational Social Scientists and their work. As we have discussed, the field of Computational Social Science is loosely defined. To gather data, we will start from the list of researchers that have joined the most important scientific conference in Computational Social Science in 2019, 2020 and 2021. The conference is called International Conference in Computational Social Science (*IC2S2* in short). The assumption here is that the scientists who contribute to this conference are working in Computational Social Science.    \n",
    ">\n",
    ">\n",
    "> You can find the programmes of the 2019, 2020 and 2021 editions of the conference at the links below.    \n",
    "> 1. Inspect the HTML of the pages above and use web-scraping to get the set of participants in 2019, 2020, and 2021. \n",
    "> 2. How many unique researchers you get in 2019? and in 2020? and in 2021? How many unique researchers in total?\n",
    "> 3. Create the set of unique researchers that joined at least one of these three conferences and store it into a file.\n",
    "> 4. Go to [DTU Learn](https://learn.inside.dtu.dk/d2l/home/145262) and fill the Survey \"_Web Scraping_\"\n",
    "> 5. *Optional:* Add also authors from the 2022 edition (link below).\n",
    ">> **2019 edition**     \n",
    ">> Oral presentations: https://2019.ic2s2.org/oral-presentations/    \n",
    ">> Poster presentations: https://2019.ic2s2.org/posters/    \n",
    ">>  _Hint:_ elements that represent items in lists are defined by the \\<li\\> tag    \n",
    ">>         \n",
    ">>  **2020 edition**     \n",
    ">>  Oral and Poster presentations: https://ic2s2.mit.edu/program   \n",
    ">>  _Hint:_ Here you should find an easy way to get the data by inspecting the page (right click on the table and click _Inspect_)\n",
    ">>        \n",
    ">>  **2021 edition**     \n",
    ">>  All presentations: https://easychair.org/smart-program/IC2S2-2021/talk_author_index.html \n",
    ">>         \n",
    ">>  **2022 edition**     \n",
    ">>  All presentations: https://boothuchicagocaai.wixsite.com/website-2/program    \n",
    ">>  Here the data is in a PDF.    \n",
    ">>  _Hint:_ There are Python packages to read data from PDFs.     "
   ]
  },
  {
   "cell_type": "markdown",
   "metadata": {
    "pycharm": {
     "name": "#%% md\n"
    }
   },
   "source": [
    "# Your feedback"
   ]
  },
  {
   "cell_type": "markdown",
   "metadata": {
    "pycharm": {
     "name": "#%% md\n"
    }
   },
   "source": [
    "I hope you enjoyed today's class. It would be awesome if you could spend a few minutes to share your feedback.    \n",
    "**Go to [DTU Learn](https://learn.inside.dtu.dk/d2l/home/145262) and fill the Survey \"_Week 1 - Feedback\"_.**"
   ]
  }
 ],
 "metadata": {
  "anaconda-cloud": {},
  "kernelspec": {
   "display_name": "Python 3",
   "language": "python",
   "name": "python3"
  },
  "language_info": {
   "codemirror_mode": {
    "name": "ipython",
    "version": 3
   },
   "file_extension": ".py",
   "mimetype": "text/x-python",
   "name": "python",
   "nbconvert_exporter": "python",
   "pygments_lexer": "ipython3",
   "version": "3.10.9 (main, Dec 15 2022, 17:11:09) [Clang 14.0.0 (clang-1400.0.29.202)]"
  },
  "vscode": {
   "interpreter": {
    "hash": "b0fa6594d8f4cbf19f97940f81e996739fb7646882a419484c72d19e05852a7e"
   }
  }
 },
 "nbformat": 4,
 "nbformat_minor": 1
}
